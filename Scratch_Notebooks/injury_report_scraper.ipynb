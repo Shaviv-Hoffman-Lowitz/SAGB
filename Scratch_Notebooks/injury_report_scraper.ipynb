{
 "cells": [
  {
   "cell_type": "code",
   "execution_count": 1,
   "metadata": {},
   "outputs": [],
   "source": [
    "import requests\n",
    "import pandas as pd\n",
    "from bs4 import BeautifulSoup\n",
    "from urllib.request import urlopen, Request"
   ]
  },
  {
   "cell_type": "code",
   "execution_count": 2,
   "metadata": {},
   "outputs": [],
   "source": [
    "teams, names, pos, date, injury, status = [], [], [], [], [], []"
   ]
  },
  {
   "cell_type": "code",
   "execution_count": 3,
   "metadata": {},
   "outputs": [],
   "source": [
    "res = requests.get('https://www.cbssports.com/nba/injuries/')\n",
    "soup = BeautifulSoup(res.text, 'lxml')\n",
    "tables = soup.find_all('div', attrs={'class':'TableBaseWrapper'})"
   ]
  },
  {
   "cell_type": "code",
   "execution_count": 4,
   "metadata": {},
   "outputs": [],
   "source": [
    "for table in tables:\n",
    "    team = table.find('span', attrs={'class':'TeamName'}).text.strip()\n",
    "    for tr in table.find_all('tr', attrs={'class':'TableBase-bodyTr'}):\n",
    "        teams.append(team)\n",
    "        td = tr.find_all('td')\n",
    "        names.append(td[0].find('span', attrs={'class':'CellPlayerName--long'}).text.strip())\n",
    "        pos.append(td[1].text.strip())\n",
    "        date.append(td[2].text.strip())\n",
    "        injury.append(td[3].text.strip())\n",
    "        status.append(td[4].text.strip())"
   ]
  },
  {
   "cell_type": "code",
   "execution_count": 5,
   "metadata": {},
   "outputs": [],
   "source": [
    "df = pd.DataFrame({'team':teams, 'player name':names, 'position':pos, 'date':date, 'injury':injury, 'status':status})\n",
    "df.to_csv('./../OutputCSVs/injury_report.csv', header=True, index=False)"
   ]
  }
 ],
 "metadata": {
  "kernelspec": {
   "display_name": "Python 3",
   "language": "python",
   "name": "python3"
  },
  "language_info": {
   "codemirror_mode": {
    "name": "ipython",
    "version": 3
   },
   "file_extension": ".py",
   "mimetype": "text/x-python",
   "name": "python",
   "nbconvert_exporter": "python",
   "pygments_lexer": "ipython3",
   "version": "3.7.6"
  }
 },
 "nbformat": 4,
 "nbformat_minor": 4
}
