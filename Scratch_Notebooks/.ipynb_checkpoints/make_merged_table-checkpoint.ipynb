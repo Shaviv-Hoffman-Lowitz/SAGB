{
 "cells": [
  {
   "cell_type": "code",
   "execution_count": 18,
   "metadata": {},
   "outputs": [],
   "source": [
    "import pandas as pd\n",
    "import datetime"
   ]
  },
  {
   "cell_type": "code",
   "execution_count": 26,
   "metadata": {},
   "outputs": [],
   "source": [
    "all_tables = []\n",
    "for m in range(1, 4):\n",
    "    if m == 2:\n",
    "        for d in range(1, 29):\n",
    "            file_name = \"{0}_{1}_2017_box_scores.csv\".format(m, d)\n",
    "            table  = pd.read_csv(file_name)\n",
    "            date = datetime.datetime(2019, m, d)\n",
    "            dates = [date] * len(table)\n",
    "            table[\"Date\"] = dates\n",
    "            all_tables.append(table)\n",
    "\n",
    "    else:\n",
    "        for d in range(1, 32):\n",
    "            file_name = \"{0}_{1}_2017_box_scores.csv\".format(m, d)\n",
    "            table  = pd.read_csv(file_name)\n",
    "            date = datetime.datetime(2019, m, d)\n",
    "            dates = [date] * len(table)\n",
    "            table[\"Date\"] = dates\n",
    "            all_tables.append(table)"
   ]
  },
  {
   "cell_type": "code",
   "execution_count": 28,
   "metadata": {},
   "outputs": [
    {
     "data": {
      "text/plain": [
       "90"
      ]
     },
     "execution_count": 28,
     "metadata": {},
     "output_type": "execute_result"
    }
   ],
   "source": [
    "len(all_tables)"
   ]
  },
  {
   "cell_type": "code",
   "execution_count": 30,
   "metadata": {},
   "outputs": [],
   "source": [
    "full_df = all_tables[0]\n",
    "for i in range(1, len(all_tables)):\n",
    "    current_table = all_tables[i]\n",
    "    full_df = full_df.append(current_table)"
   ]
  },
  {
   "cell_type": "code",
   "execution_count": 32,
   "metadata": {},
   "outputs": [],
   "source": [
    "full_df.to_csv(\"./all_games.csv\")"
   ]
  }
 ],
 "metadata": {
  "kernelspec": {
   "display_name": "Python 3",
   "language": "python",
   "name": "python3"
  },
  "language_info": {
   "codemirror_mode": {
    "name": "ipython",
    "version": 3
   },
   "file_extension": ".py",
   "mimetype": "text/x-python",
   "name": "python",
   "nbconvert_exporter": "python",
   "pygments_lexer": "ipython3",
   "version": "3.6.2"
  }
 },
 "nbformat": 4,
 "nbformat_minor": 2
}
