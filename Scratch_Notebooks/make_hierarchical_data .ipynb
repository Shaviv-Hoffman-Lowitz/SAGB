{
 "cells": [
  {
   "cell_type": "code",
   "execution_count": 36,
   "metadata": {},
   "outputs": [],
   "source": [
    "import numpy as np\n",
    "import pandas as pd\n",
    "import sklearn\n",
    "from basketball_reference_web_scraper import client\n",
    "from basketball_reference_web_scraper.data import Team\n",
    "from basketball_reference_web_scraper.data import OutputType\n",
    "import datetime"
   ]
  },
  {
   "cell_type": "code",
   "execution_count": 41,
   "metadata": {},
   "outputs": [],
   "source": [
    "all_games_by_player.to_csv(\"./all_games_by_player.csv\")"
   ]
  },
  {
   "cell_type": "code",
   "execution_count": 2,
   "metadata": {},
   "outputs": [],
   "source": [
    "all_games = pd.read_csv(\"all_games.csv\")\n",
    "all_games = all_games.drop(columns=[\"Unnamed: 0\"])\n",
    "all_games = all_games.reset_index()\n",
    "all_games_by_player = all_games.set_index([\"name\", \"index\"]).sort_index()"
   ]
  },
  {
   "cell_type": "code",
   "execution_count": 34,
   "metadata": {},
   "outputs": [],
   "source": [
    "for m in range(1, 4):\n",
    "    if m == 2:\n",
    "        for d in range(1, 29):\n",
    "            file_name = \"./{0}_{1}_2019_team_box_scores.csv\".format(m, d)\n",
    "            client.team_box_scores(day=d, month=m, year=2019, output_type=OutputType.CSV, output_file_path=file_name)\n",
    "    else:\n",
    "        for d in range(1, 32):\n",
    "            file_name = \"./{0}_{1}_2019_team_box_scores.csv\".format(m, d)\n",
    "            client.team_box_scores(day=d, month=m, year=2019, output_type=OutputType.CSV, output_file_path=file_name)"
   ]
  },
  {
   "cell_type": "code",
   "execution_count": 37,
   "metadata": {},
   "outputs": [],
   "source": [
    "all_tables = []\n",
    "for m in range(1, 4):\n",
    "    if m == 2:\n",
    "        for d in range(1, 29):\n",
    "            file_name = \"{0}_{1}_2019_team_box_scores.csv\".format(m, d)\n",
    "            table  = pd.read_csv(file_name)\n",
    "            date = datetime.datetime(2019, m, d)\n",
    "            dates = [date] * len(table)\n",
    "            table[\"Date\"] = dates\n",
    "            all_tables.append(table)\n",
    "\n",
    "    else:\n",
    "        for d in range(1, 32):\n",
    "            file_name = \"{0}_{1}_2019_team_box_scores.csv\".format(m, d)\n",
    "            table  = pd.read_csv(file_name)\n",
    "            date = datetime.datetime(2019, m, d)\n",
    "            dates = [date] * len(table)\n",
    "            table[\"Date\"] = dates\n",
    "            all_tables.append(table)\n",
    "            \n",
    "full_df = all_tables[0]\n",
    "for i in range(1, len(all_tables)):\n",
    "    current_table = all_tables[i]\n",
    "    full_df = full_df.append(current_table)"
   ]
  },
  {
   "cell_type": "code",
   "execution_count": 39,
   "metadata": {},
   "outputs": [],
   "source": [
    "full_df.to_csv(\"./all_games_teams.csv\")"
   ]
  },
  {
   "cell_type": "code",
   "execution_count": null,
   "metadata": {},
   "outputs": [],
   "source": []
  }
 ],
 "metadata": {
  "kernelspec": {
   "display_name": "Python 3",
   "language": "python",
   "name": "python3"
  },
  "language_info": {
   "codemirror_mode": {
    "name": "ipython",
    "version": 3
   },
   "file_extension": ".py",
   "mimetype": "text/x-python",
   "name": "python",
   "nbconvert_exporter": "python",
   "pygments_lexer": "ipython3",
   "version": "3.6.2"
  }
 },
 "nbformat": 4,
 "nbformat_minor": 2
}
