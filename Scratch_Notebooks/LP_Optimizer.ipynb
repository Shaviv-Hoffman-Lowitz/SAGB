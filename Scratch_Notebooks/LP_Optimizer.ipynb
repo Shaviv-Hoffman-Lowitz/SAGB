{
 "cells": [
  {
   "cell_type": "code",
   "execution_count": 6,
   "metadata": {},
   "outputs": [],
   "source": [
    "from pulp import *\n",
    "import pandas as pd\n",
    "import numpy as np"
   ]
  },
  {
   "cell_type": "code",
   "execution_count": 38,
   "metadata": {},
   "outputs": [],
   "source": [
    "def generate_optimal_lineup(players, positions, values, costs, budget):\n",
    "    num_variables = len(players)\n",
    "    \n",
    "    lp = LpProblem(\"My LP Problem\", pulp.LpMaximize)\n",
    "    \n",
    "    d = {}\n",
    "    for i in range(0, num_variables):\n",
    "        d[players[i]] = LpVariable(players[i], cat=\"Binary\")\n",
    "    \n",
    "    objective = sum(np.array(values) * np.array(list(d.values())))\n",
    "    lp += objective\n",
    "    \n",
    "    pg_constraint = 0\n",
    "    #sg_constraint = 0\n",
    "    sf_constraint = 0\n",
    "    #pf_constraint = 0\n",
    "    c_constraint = 0\n",
    "    for i in range(0, len(positions)):\n",
    "        if positions[i] == \"PG\":\n",
    "            pg_constraint += d[players[i]]\n",
    "       # elif positions[i] == \"SG\":\n",
    "       #     sg_constraint += d[i]\n",
    "        elif positions[i] == \"SF\":\n",
    "            sf_constraint += d[players[i]]\n",
    "        #elif positions[i] == \"PF\":\n",
    "        #    pf_constraint += d[i]\n",
    "        else:\n",
    "            c_constraint += d[players[i]]\n",
    "    lp += pg_constraint == 2\n",
    "    #lp += sg_constraint == 2\n",
    "    lp += sf_constraint == 2\n",
    "    #lp += pf_constraint == 2\n",
    "    lp += c_constraint == 1\n",
    "    \n",
    "    cost = sum(np.array(costs) * np.array(list(d.values())))\n",
    "    lp += cost <= budget\n",
    "    \n",
    "    lp.solve()\n",
    "    \n",
    "    lineup = [variable.name for variable in lp.variables() if variable.varValue == 1]\n",
    "    print(lineup)\n",
    "    #for variable in lp.variables():\n",
    "    #    print (\"{} = {}\".format(variable.name, variable.varValue))\n",
    "    print(pulp.value(lp.objective))"
   ]
  },
  {
   "cell_type": "code",
   "execution_count": 39,
   "metadata": {},
   "outputs": [
    {
     "name": "stdout",
     "output_type": "stream",
     "text": [
      "['1', '10', '3', '4', '7']\n",
      "25.0\n"
     ]
    }
   ],
   "source": [
    "players = [\"0\", \"1\", \"2\", \"3\", \"4\", \"5\", \"6\", \"7\", \"8\", \"9\", \"10\", \"11\"]\n",
    "positions = [\"PG\", \"PG\", \"PG\", \"PG\", \"SF\", \"SF\", \"SF\", \"SF\", \"SF\", \"C\", \"C\", \"C\"]\n",
    "values = [3, 4, 7, 5, 9, 10, 2, 4, 5, 12, 3, 5]\n",
    "costs = [3, 4, 7, 5, 9, 10, 2, 4, 5, 12, 3, 5]\n",
    "budget = 25\n",
    "generate_optimal_lineup(players, positions, values, costs, budget)"
   ]
  },
  {
   "cell_type": "code",
   "execution_count": null,
   "metadata": {},
   "outputs": [],
   "source": []
  }
 ],
 "metadata": {
  "kernelspec": {
   "display_name": "Python 3",
   "language": "python",
   "name": "python3"
  },
  "language_info": {
   "codemirror_mode": {
    "name": "ipython",
    "version": 3
   },
   "file_extension": ".py",
   "mimetype": "text/x-python",
   "name": "python",
   "nbconvert_exporter": "python",
   "pygments_lexer": "ipython3",
   "version": "3.6.2"
  }
 },
 "nbformat": 4,
 "nbformat_minor": 2
}
