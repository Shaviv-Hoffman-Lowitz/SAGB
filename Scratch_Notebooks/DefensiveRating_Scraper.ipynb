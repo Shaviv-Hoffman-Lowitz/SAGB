{
 "cells": [
  {
   "cell_type": "code",
   "execution_count": 1,
   "metadata": {},
   "outputs": [],
   "source": [
    "import pandas as pd\n",
    "from bs4 import BeautifulSoup\n",
    "from urllib.request import urlopen, Request\n",
    "import requests"
   ]
  },
  {
   "cell_type": "code",
   "execution_count": 2,
   "metadata": {},
   "outputs": [],
   "source": [
    "res = requests.get('https://hashtagbasketball.com/nba-defense-vs-position')\n",
    "soup = BeautifulSoup(res.text, 'lxml')\n",
    "pg, sg, sf, pf, c = [], [], [], [], []\n",
    "table = soup.find('table', attrs={'id':'ContentPlaceHolder1_GridView1'})\n",
    "for tr in table.find_all('tr'):\n",
    "    td_list = tr.find_all('td')\n",
    "    if tr.find('td') is not None:\n",
    "        text = \" \".join([i for i in td_list[1].text.split() if not i.isdigit()])\n",
    "        if td_list[0].text == 'PG':\n",
    "            pg.append(text)\n",
    "        elif td_list[0].text == 'SG':\n",
    "            sg.append(text)\n",
    "        elif td_list[0].text == 'SF':\n",
    "            sf.append(text)\n",
    "        elif td_list[0].text == 'PF':\n",
    "            pf.append(text)\n",
    "        elif td_list[0].text == 'C':\n",
    "            c.append(text)"
   ]
  },
  {
   "cell_type": "code",
   "execution_count": 3,
   "metadata": {},
   "outputs": [],
   "source": [
    "rank = list(range(1, 31))\n",
    "columns = ['Team', 'vs PG', 'vs SG', 'vs SF', 'vs PF', 'vs C']\n",
    "df_pg = pd.DataFrame({'Team':pg, 'vs PG':rank}).sort_values('Team')\n",
    "df_sg = pd.DataFrame({'Team':sg, 'vs SG':rank}).sort_values('Team')\n",
    "df_sf = pd.DataFrame({'Team':sf, 'vs SF':rank}).sort_values('Team')\n",
    "df_pf = pd.DataFrame({'Team':pf, 'vs PF':rank}).sort_values('Team')\n",
    "df_c = pd.DataFrame({'Team':c, 'vs C':rank}).sort_values('Team')\n",
    "a = pd.merge(df_pg, df_sg, on='Team')\n",
    "b = pd.merge(a, df_sf, on='Team')\n",
    "c = pd.merge(b, df_pf, on='Team')\n",
    "d = pd.merge(c, df_c, on='Team')"
   ]
  },
  {
   "cell_type": "code",
   "execution_count": 5,
   "metadata": {},
   "outputs": [],
   "source": [
    "df = d.reindex(columns=columns)\n",
    "df.to_csv('./../OutputCSVs/team_def_vs_position.csv', header=True, index=False)"
   ]
  }
 ],
 "metadata": {
  "kernelspec": {
   "display_name": "Python 3",
   "language": "python",
   "name": "python3"
  },
  "language_info": {
   "codemirror_mode": {
    "name": "ipython",
    "version": 3
   },
   "file_extension": ".py",
   "mimetype": "text/x-python",
   "name": "python",
   "nbconvert_exporter": "python",
   "pygments_lexer": "ipython3",
   "version": "3.8.5"
  }
 },
 "nbformat": 4,
 "nbformat_minor": 4
}
