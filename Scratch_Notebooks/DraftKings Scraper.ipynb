{
 "cells": [
  {
   "cell_type": "code",
   "execution_count": 1,
   "metadata": {},
   "outputs": [],
   "source": [
    "import requests\n",
    "import pandas as pd\n",
    "from bs4 import BeautifulSoup\n",
    "from urllib.request import urlopen, Request"
   ]
  },
  {
   "cell_type": "code",
   "execution_count": 2,
   "metadata": {},
   "outputs": [],
   "source": [
    "pos, name, dkp, salary, team, opp, score, minutes, stats, date = [], [], [], [], [], [], [], [], [], []"
   ]
  },
  {
   "cell_type": "code",
   "execution_count": 3,
   "metadata": {
    "scrolled": false
   },
   "outputs": [],
   "source": [
    "def scrape_information(month, day):\n",
    "    res = requests.get('http://rotoguru1.com/cgi-bin/hyday.pl?game=dk&mon='+str(month)+'&day='+str(day)+'&year=2020')\n",
    "    soup = BeautifulSoup(res.text, 'lxml')\n",
    "    table = soup.find('table', attrs={'cellspacing':'5'})\n",
    "    for tr in table.find_all('tr'):\n",
    "        if tr.find('td', attrs={'colspan':'7'}) or tr.find('td', attrs={'colspan':'2'}):\n",
    "            continue\n",
    "        else:\n",
    "            td = tr.find_all('td')\n",
    "            pos.append(\" \".join(td[0].text.split()))\n",
    "            name.append(\" \".join(td[1].text.split()))\n",
    "            dkp.append(\" \".join(td[2].text.split()))\n",
    "            salary.append(\" \".join(td[3].text.split()))\n",
    "            team.append(\" \".join(td[4].text.split()))\n",
    "            opp.append(\" \".join(td[5].text.split()))\n",
    "            score.append(\" \".join(td[6].text.split()))\n",
    "            minutes.append(\" \".join(td[7].text.split()))\n",
    "            stats.append(\" \".join(td[8].text.split()))\n",
    "            date.append(\"2020-{0}-{1}\".format(m, d))"
   ]
  },
  {
   "cell_type": "code",
   "execution_count": 4,
   "metadata": {},
   "outputs": [
    {
     "name": "stdout",
     "output_type": "stream",
     "text": [
      "['2020-2-2', '2020-1-9', '2020-1-24', '2020-2-27', '2020-2-29', '2020-1-17', '2020-2-10', '2020-2-23', '2020-1-6', '2020-1-26', '2020-1-21', '2020-2-11', '2020-2-4', '2020-1-16', '2020-1-22', '2020-1-2', '2020-1-1', '2020-2-8', '2020-1-23', '2020-2-3', '2020-1-8', '2020-2-6', '2020-2-7', '2020-2-24', '2020-2-26', '2020-1-25', '2020-1-12', '2020-1-28', '2020-1-3', '2020-1-29', '2020-2-21', '2020-2-5', '2020-2-12', '2020-2-25', '2020-1-19', '2020-1-15', '2020-2-22', '2020-2-28', '2020-1-18', '2020-1-30', '2020-2-16', '2020-1-14', '2020-1-10', '2020-1-13', '2020-2-1', '2020-1-4', '2020-2-13', '2020-1-7', '2020-2-20', '2020-1-27', '2020-1-20', '2020-1-31', '2020-1-5', '2020-2-14', '2020-1-11', '2020-2-9']\n"
     ]
    }
   ],
   "source": [
    "for m in range(1, 3):\n",
    "    if m == 2:\n",
    "        for d in range(1, 30):\n",
    "            scrape_information(m, d)\n",
    "    else: \n",
    "        for d in range(1, 32):\n",
    "            scrape_information(m, d)"
   ]
  },
  {
   "cell_type": "code",
   "execution_count": 5,
   "metadata": {},
   "outputs": [],
   "source": [
    "df = pd.DataFrame({'position':pos, 'name':name, 'dk points':dkp, 'salary':salary, 'team':team,\n",
    "                  'opponent':opp, 'score':score, 'minutes':minutes, 'stats':stats, 'date':date})\n",
    "df.to_csv('./../OutputCSVs/draftkings_points.csv', header=True, index=False)"
   ]
  }
 ],
 "metadata": {
  "kernelspec": {
   "display_name": "Python 3",
   "language": "python",
   "name": "python3"
  },
  "language_info": {
   "codemirror_mode": {
    "name": "ipython",
    "version": 3
   },
   "file_extension": ".py",
   "mimetype": "text/x-python",
   "name": "python",
   "nbconvert_exporter": "python",
   "pygments_lexer": "ipython3",
   "version": "3.7.6"
  }
 },
 "nbformat": 4,
 "nbformat_minor": 4
}
