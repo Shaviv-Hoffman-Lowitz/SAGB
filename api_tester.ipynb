{
 "cells": [
  {
   "cell_type": "code",
   "execution_count": 2,
   "metadata": {},
   "outputs": [],
   "source": [
    "import sagbprojections as sagb"
   ]
  },
  {
   "cell_type": "code",
   "execution_count": 12,
   "metadata": {},
   "outputs": [
    {
     "data": {
      "text/plain": [
       "4                Kevin Durant\n",
       "19         Kristaps Porzingis\n",
       "23              DeMar DeRozan\n",
       "25           D'Angelo Russell\n",
       "26              Tobias Harris\n",
       "30              Malik Beasley\n",
       "31               Paul Millsap\n",
       "34              Thomas Bryant\n",
       "41                 Kevin Love\n",
       "44                Larry Nance\n",
       "45               Aaron Gordon\n",
       "47             Keldon Johnson\n",
       "49          LaMarcus Aldridge\n",
       "57              Derrick White\n",
       "62             Andre Drummond\n",
       "64              Elfrid Payton\n",
       "66                   Rudy Gay\n",
       "78          Mitchell Robinson\n",
       "82                 Jeff Green\n",
       "85                James Ennis\n",
       "86             Hamidou Diallo\n",
       "90              Davis Bertans\n",
       "91             JaMychal Green\n",
       "99             Taurean Prince\n",
       "103                 Ish Smith\n",
       "107               Gary Harris\n",
       "109                 PJ Dozier\n",
       "119              Trevor Ariza\n",
       "131               George Hill\n",
       "132       Matthew Dellavedova\n",
       "153               T.J. Warren\n",
       "162         Spencer Dinwiddie\n",
       "174              Caris LeVert\n",
       "178    Quinndary Weatherspoon\n",
       "184            JaKarr Sampson\n",
       "192            Udoka Azubuike\n",
       "195            Markelle Fultz\n",
       "197            Jonathan Isaac\n",
       "199              Cole Anthony\n",
       "200             Devin Vassell\n",
       "Name: Name, dtype: object"
      ]
     },
     "execution_count": 12,
     "metadata": {},
     "output_type": "execute_result"
    }
   ],
   "source": [
    "sagb.getInjured()"
   ]
  },
  {
   "cell_type": "code",
   "execution_count": null,
   "metadata": {},
   "outputs": [],
   "source": []
  }
 ],
 "metadata": {
  "kernelspec": {
   "display_name": "Python 3",
   "language": "python",
   "name": "python3"
  },
  "language_info": {
   "codemirror_mode": {
    "name": "ipython",
    "version": 3
   },
   "file_extension": ".py",
   "mimetype": "text/x-python",
   "name": "python",
   "nbconvert_exporter": "python",
   "pygments_lexer": "ipython3",
   "version": "3.8.5"
  }
 },
 "nbformat": 4,
 "nbformat_minor": 4
}
