{
 "cells": [
  {
   "cell_type": "code",
   "execution_count": 1,
   "metadata": {},
   "outputs": [],
   "source": [
    "import pandas as pd"
   ]
  },
  {
   "cell_type": "code",
   "execution_count": 14,
   "metadata": {},
   "outputs": [
    {
     "data": {
      "text/html": [
       "<div>\n",
       "<style scoped>\n",
       "    .dataframe tbody tr th:only-of-type {\n",
       "        vertical-align: middle;\n",
       "    }\n",
       "\n",
       "    .dataframe tbody tr th {\n",
       "        vertical-align: top;\n",
       "    }\n",
       "\n",
       "    .dataframe thead th {\n",
       "        text-align: right;\n",
       "    }\n",
       "</style>\n",
       "<table border=\"1\" class=\"dataframe\">\n",
       "  <thead>\n",
       "    <tr style=\"text-align: right;\">\n",
       "      <th></th>\n",
       "      <th>Team</th>\n",
       "      <th>DRtg</th>\n",
       "      <th>Pace</th>\n",
       "      <th>TOV%</th>\n",
       "    </tr>\n",
       "  </thead>\n",
       "  <tbody>\n",
       "    <tr>\n",
       "      <th>0</th>\n",
       "      <td>MILWAUKEE BUCKS</td>\n",
       "      <td>105.2</td>\n",
       "      <td>103.3</td>\n",
       "      <td>12.0</td>\n",
       "    </tr>\n",
       "    <tr>\n",
       "      <th>1</th>\n",
       "      <td>GOLDEN STATE WARRIORS</td>\n",
       "      <td>109.5</td>\n",
       "      <td>100.9</td>\n",
       "      <td>12.6</td>\n",
       "    </tr>\n",
       "    <tr>\n",
       "      <th>2</th>\n",
       "      <td>TORONTO RAPTORS</td>\n",
       "      <td>107.1</td>\n",
       "      <td>100.2</td>\n",
       "      <td>12.4</td>\n",
       "    </tr>\n",
       "    <tr>\n",
       "      <th>3</th>\n",
       "      <td>UTAH JAZZ</td>\n",
       "      <td>105.7</td>\n",
       "      <td>100.3</td>\n",
       "      <td>13.4</td>\n",
       "    </tr>\n",
       "    <tr>\n",
       "      <th>4</th>\n",
       "      <td>HOUSTON ROCKETS</td>\n",
       "      <td>110.7</td>\n",
       "      <td>97.9</td>\n",
       "      <td>12.0</td>\n",
       "    </tr>\n",
       "    <tr>\n",
       "      <th>5</th>\n",
       "      <td>PORTLAND TRAIL BLAZERS</td>\n",
       "      <td>110.5</td>\n",
       "      <td>99.1</td>\n",
       "      <td>12.1</td>\n",
       "    </tr>\n",
       "    <tr>\n",
       "      <th>6</th>\n",
       "      <td>DENVER NUGGETS</td>\n",
       "      <td>108.9</td>\n",
       "      <td>97.7</td>\n",
       "      <td>11.9</td>\n",
       "    </tr>\n",
       "    <tr>\n",
       "      <th>7</th>\n",
       "      <td>BOSTON CELTICS</td>\n",
       "      <td>107.8</td>\n",
       "      <td>99.6</td>\n",
       "      <td>11.5</td>\n",
       "    </tr>\n",
       "    <tr>\n",
       "      <th>8</th>\n",
       "      <td>OKLAHOMA CITY THUNDER</td>\n",
       "      <td>107.0</td>\n",
       "      <td>102.8</td>\n",
       "      <td>11.7</td>\n",
       "    </tr>\n",
       "    <tr>\n",
       "      <th>9</th>\n",
       "      <td>INDIANA PACERS</td>\n",
       "      <td>106.5</td>\n",
       "      <td>98.1</td>\n",
       "      <td>12.4</td>\n",
       "    </tr>\n",
       "    <tr>\n",
       "      <th>10</th>\n",
       "      <td>PHILADELPHIA 76ERS</td>\n",
       "      <td>110.0</td>\n",
       "      <td>101.6</td>\n",
       "      <td>12.9</td>\n",
       "    </tr>\n",
       "    <tr>\n",
       "      <th>11</th>\n",
       "      <td>SAN ANTONIO SPURS</td>\n",
       "      <td>111.2</td>\n",
       "      <td>98.3</td>\n",
       "      <td>11.0</td>\n",
       "    </tr>\n",
       "    <tr>\n",
       "      <th>12</th>\n",
       "      <td>LOS ANGELES CLIPPERS</td>\n",
       "      <td>111.5</td>\n",
       "      <td>101.7</td>\n",
       "      <td>12.7</td>\n",
       "    </tr>\n",
       "    <tr>\n",
       "      <th>13</th>\n",
       "      <td>ORLANDO MAGIC</td>\n",
       "      <td>108.1</td>\n",
       "      <td>98.1</td>\n",
       "      <td>11.9</td>\n",
       "    </tr>\n",
       "    <tr>\n",
       "      <th>14</th>\n",
       "      <td>BROOKLYN NETS</td>\n",
       "      <td>109.7</td>\n",
       "      <td>100.8</td>\n",
       "      <td>13.0</td>\n",
       "    </tr>\n",
       "    <tr>\n",
       "      <th>15</th>\n",
       "      <td>MIAMI HEAT</td>\n",
       "      <td>107.6</td>\n",
       "      <td>98.2</td>\n",
       "      <td>13.1</td>\n",
       "    </tr>\n",
       "    <tr>\n",
       "      <th>16</th>\n",
       "      <td>DETROIT PISTONS</td>\n",
       "      <td>109.2</td>\n",
       "      <td>97.4</td>\n",
       "      <td>12.3</td>\n",
       "    </tr>\n",
       "    <tr>\n",
       "      <th>17</th>\n",
       "      <td>SACRAMENTO KINGS</td>\n",
       "      <td>111.5</td>\n",
       "      <td>103.1</td>\n",
       "      <td>11.5</td>\n",
       "    </tr>\n",
       "    <tr>\n",
       "      <th>18</th>\n",
       "      <td>DALLAS MAVERICKS</td>\n",
       "      <td>110.7</td>\n",
       "      <td>99.0</td>\n",
       "      <td>12.7</td>\n",
       "    </tr>\n",
       "    <tr>\n",
       "      <th>19</th>\n",
       "      <td>MINNESOTA TIMBERWOLVES</td>\n",
       "      <td>112.9</td>\n",
       "      <td>100.2</td>\n",
       "      <td>11.4</td>\n",
       "    </tr>\n",
       "    <tr>\n",
       "      <th>20</th>\n",
       "      <td>NEW ORLEANS PELICANS</td>\n",
       "      <td>112.6</td>\n",
       "      <td>103.3</td>\n",
       "      <td>12.6</td>\n",
       "    </tr>\n",
       "    <tr>\n",
       "      <th>21</th>\n",
       "      <td>CHARLOTTE HORNETS</td>\n",
       "      <td>112.5</td>\n",
       "      <td>98.7</td>\n",
       "      <td>10.9</td>\n",
       "    </tr>\n",
       "    <tr>\n",
       "      <th>22</th>\n",
       "      <td>LOS ANGELES LAKERS</td>\n",
       "      <td>109.5</td>\n",
       "      <td>103.2</td>\n",
       "      <td>13.4</td>\n",
       "    </tr>\n",
       "    <tr>\n",
       "      <th>23</th>\n",
       "      <td>MEMPHIS GRIZZLIES</td>\n",
       "      <td>108.8</td>\n",
       "      <td>96.6</td>\n",
       "      <td>12.9</td>\n",
       "    </tr>\n",
       "    <tr>\n",
       "      <th>24</th>\n",
       "      <td>WASHINGTON WIZARDS</td>\n",
       "      <td>113.9</td>\n",
       "      <td>101.4</td>\n",
       "      <td>12.3</td>\n",
       "    </tr>\n",
       "    <tr>\n",
       "      <th>25</th>\n",
       "      <td>ATLANTA HAWKS</td>\n",
       "      <td>113.9</td>\n",
       "      <td>103.9</td>\n",
       "      <td>14.3</td>\n",
       "    </tr>\n",
       "    <tr>\n",
       "      <th>26</th>\n",
       "      <td>CHICAGO BULLS</td>\n",
       "      <td>113.2</td>\n",
       "      <td>99.0</td>\n",
       "      <td>12.7</td>\n",
       "    </tr>\n",
       "    <tr>\n",
       "      <th>27</th>\n",
       "      <td>PHOENIX SUNS</td>\n",
       "      <td>115.1</td>\n",
       "      <td>100.5</td>\n",
       "      <td>13.8</td>\n",
       "    </tr>\n",
       "    <tr>\n",
       "      <th>28</th>\n",
       "      <td>NEW YORK KNICKS</td>\n",
       "      <td>113.7</td>\n",
       "      <td>99.6</td>\n",
       "      <td>12.4</td>\n",
       "    </tr>\n",
       "    <tr>\n",
       "      <th>29</th>\n",
       "      <td>CLEVELAND CAVALIERS</td>\n",
       "      <td>117.6</td>\n",
       "      <td>96.6</td>\n",
       "      <td>12.2</td>\n",
       "    </tr>\n",
       "  </tbody>\n",
       "</table>\n",
       "</div>"
      ],
      "text/plain": [
       "                      Team   DRtg   Pace  TOV%\n",
       "0          MILWAUKEE BUCKS  105.2  103.3  12.0\n",
       "1    GOLDEN STATE WARRIORS  109.5  100.9  12.6\n",
       "2          TORONTO RAPTORS  107.1  100.2  12.4\n",
       "3                UTAH JAZZ  105.7  100.3  13.4\n",
       "4          HOUSTON ROCKETS  110.7   97.9  12.0\n",
       "5   PORTLAND TRAIL BLAZERS  110.5   99.1  12.1\n",
       "6           DENVER NUGGETS  108.9   97.7  11.9\n",
       "7           BOSTON CELTICS  107.8   99.6  11.5\n",
       "8    OKLAHOMA CITY THUNDER  107.0  102.8  11.7\n",
       "9           INDIANA PACERS  106.5   98.1  12.4\n",
       "10      PHILADELPHIA 76ERS  110.0  101.6  12.9\n",
       "11       SAN ANTONIO SPURS  111.2   98.3  11.0\n",
       "12    LOS ANGELES CLIPPERS  111.5  101.7  12.7\n",
       "13           ORLANDO MAGIC  108.1   98.1  11.9\n",
       "14           BROOKLYN NETS  109.7  100.8  13.0\n",
       "15              MIAMI HEAT  107.6   98.2  13.1\n",
       "16         DETROIT PISTONS  109.2   97.4  12.3\n",
       "17        SACRAMENTO KINGS  111.5  103.1  11.5\n",
       "18        DALLAS MAVERICKS  110.7   99.0  12.7\n",
       "19  MINNESOTA TIMBERWOLVES  112.9  100.2  11.4\n",
       "20    NEW ORLEANS PELICANS  112.6  103.3  12.6\n",
       "21       CHARLOTTE HORNETS  112.5   98.7  10.9\n",
       "22      LOS ANGELES LAKERS  109.5  103.2  13.4\n",
       "23       MEMPHIS GRIZZLIES  108.8   96.6  12.9\n",
       "24      WASHINGTON WIZARDS  113.9  101.4  12.3\n",
       "25           ATLANTA HAWKS  113.9  103.9  14.3\n",
       "26           CHICAGO BULLS  113.2   99.0  12.7\n",
       "27            PHOENIX SUNS  115.1  100.5  13.8\n",
       "28         NEW YORK KNICKS  113.7   99.6  12.4\n",
       "29     CLEVELAND CAVALIERS  117.6   96.6  12.2"
      ]
     },
     "execution_count": 14,
     "metadata": {},
     "output_type": "execute_result"
    }
   ],
   "source": [
    "df = pd.read_csv(\"teams_stats.csv\")\n",
    "df[\"Team\"] = df[\"Team\"].str.upper()\n",
    "df"
   ]
  },
  {
   "cell_type": "code",
   "execution_count": 38,
   "metadata": {},
   "outputs": [
    {
     "data": {
      "text/plain": [
       "5    12.1\n",
       "Name: TOV%, dtype: float64"
      ]
     },
     "execution_count": 38,
     "metadata": {},
     "output_type": "execute_result"
    }
   ],
   "source": [
    "all_games = pd.read_csv(\"all_games.csv\")\n",
    "x = all_games[[\"team\", \"opponent\"]].loc[0][\"team\"]\n",
    "df[df[\"Team\"] == x][\"TOV%\"]"
   ]
  },
  {
   "cell_type": "code",
   "execution_count": 43,
   "metadata": {},
   "outputs": [],
   "source": [
    "team_def = []\n",
    "team_pace = []\n",
    "team_tov = []\n",
    "opp_def = []\n",
    "opp_pace = []\n",
    "opp_tov = []\n",
    "all_games_teams = all_games[[\"team\", \"opponent\"]]\n",
    "\n",
    "for i in range(len(all_games_teams)):\n",
    "    game = all_games_teams.loc[i]\n",
    "    team = game[\"team\"]\n",
    "    opponent = game[\"opponent\"]\n",
    "    team_def.append(df[df[\"Team\"] == team][\"DRtg\"].iloc[0])\n",
    "    team_pace.append(df[df[\"Team\"] == team][\"Pace\"].iloc[0])\n",
    "    team_tov.append(df[df[\"Team\"] == team][\"TOV%\"].iloc[0])\n",
    "    opp_def.append(df[df[\"Team\"] == opponent][\"DRtg\"].iloc[0])\n",
    "    opp_pace.append(df[df[\"Team\"] == opponent][\"Pace\"].iloc[0])\n",
    "    opp_tov.append(df[df[\"Team\"] == opponent][\"TOV%\"].iloc[0])\n",
    "    \n",
    "all_games[\"Team Defensive Rating\"] = team_def\n",
    "all_games[\"Team Pace\"] = team_pace\n",
    "all_games[\"Team Turnover %\"] = team_tov\n",
    "all_games[\"Opponent Defensive Rating\"] = opp_def\n",
    "all_games[\"Opponent Pace\"] = opp_pace\n",
    "all_games[\"Opponent Turnover %\"] = opp_tov\n"
   ]
  },
  {
   "cell_type": "code",
   "execution_count": 46,
   "metadata": {},
   "outputs": [],
   "source": [
    "all_games.to_csv(\"all_games_new.csv\")"
   ]
  },
  {
   "cell_type": "code",
   "execution_count": 2,
   "metadata": {},
   "outputs": [],
   "source": [
    "df = pd.read_csv(\"all_games_new.csv\")"
   ]
  },
  {
   "cell_type": "code",
   "execution_count": 5,
   "metadata": {},
   "outputs": [],
   "source": [
    "attempted_2s = df[\"attempted_field_goals\"] - df[\"attempted_three_point_field_goals\"]\n",
    "made_2s = df[\"made_field_goals\"] - df[\"made_three_point_field_goals\"]\n",
    "rebounds = df[\"offensive_rebounds\"] + df[\"defensive_rebounds\"]\n",
    "at_home = df[\"location\"] == \"HOME\""
   ]
  },
  {
   "cell_type": "code",
   "execution_count": 10,
   "metadata": {},
   "outputs": [
    {
     "data": {
      "text/plain": [
       "Index(['Unnamed: 0', 'Unnamed: 0.1', 'slug', 'name', 'team', 'location',\n",
       "       'opponent', 'outcome', 'seconds_played', 'made_field_goals',\n",
       "       'attempted_field_goals', 'made_three_point_field_goals',\n",
       "       'attempted_three_point_field_goals', 'made_free_throws',\n",
       "       'attempted_free_throws', 'offensive_rebounds', 'defensive_rebounds',\n",
       "       'assists', 'steals', 'blocks', 'turnovers', 'personal_fouls',\n",
       "       'game_score', 'Date', 'Team Defensive Rating', 'Team Pace',\n",
       "       'Team Turnover %', 'Opponent Defensive Rating', 'Opponent Pace',\n",
       "       'Opponent Turnover %'],\n",
       "      dtype='object')"
      ]
     },
     "execution_count": 10,
     "metadata": {},
     "output_type": "execute_result"
    }
   ],
   "source": [
    "df.columns"
   ]
  },
  {
   "cell_type": "code",
   "execution_count": 11,
   "metadata": {},
   "outputs": [],
   "source": [
    "df[\"attempted_two_point_field_goals\"] = attempted_2s\n",
    "df[\"made_two_point_field_goals\"] = made_2s\n",
    "df[\"total_rebounds\"] = rebounds\n",
    "df[\"at_home\"] = at_home"
   ]
  },
  {
   "cell_type": "code",
   "execution_count": 13,
   "metadata": {},
   "outputs": [],
   "source": [
    "df.to_csv(\"all_games_updated.csv\")"
   ]
  },
  {
   "cell_type": "code",
   "execution_count": null,
   "metadata": {},
   "outputs": [],
   "source": []
  },
  {
   "cell_type": "code",
   "execution_count": 19,
   "metadata": {},
   "outputs": [],
   "source": [
    "all_games_actual = pd.read_csv(\"all_games.csv\")\n",
    "all_games_actual =  all_games_actual.reset_index().drop(\"Unnamed: 0\", axis=1)"
   ]
  },
  {
   "cell_type": "code",
   "execution_count": 20,
   "metadata": {},
   "outputs": [],
   "source": [
    "all_games_predicted_5 = pd.read_csv(\"predicted_statlines_trailing_5_games.csv\")\n",
    "all_games_predicted_5 = all_games_predicted_5.rename(columns={\"Unnamed: 0\": \"indexr\"})"
   ]
  },
  {
   "cell_type": "code",
   "execution_count": 26,
   "metadata": {},
   "outputs": [],
   "source": [
    "all_games_merged_5 = all_games_actual.merge(all_games_predicted_5, left_on=\"index\", right_on=\"indexr\")"
   ]
  },
  {
   "cell_type": "code",
   "execution_count": 28,
   "metadata": {},
   "outputs": [],
   "source": [
    "all_games_predicted_10 = pd.read_csv(\"predicted_statlines_trailing_10_games.csv\")\n",
    "all_games_predicted_10 = all_games_predicted_5.rename(columns={\"Unnamed: 0\": \"indexr\"})"
   ]
  },
  {
   "cell_type": "code",
   "execution_count": 30,
   "metadata": {},
   "outputs": [],
   "source": [
    "all_games_merged_10 = all_games_actual.merge(all_games_predicted_10, left_on=\"index\", right_on=\"indexr\")"
   ]
  },
  {
   "cell_type": "code",
   "execution_count": 32,
   "metadata": {},
   "outputs": [],
   "source": [
    "all_games_merged_5.to_csv(\"true_and_predicted_statlines_5.csv\")"
   ]
  },
  {
   "cell_type": "code",
   "execution_count": 33,
   "metadata": {},
   "outputs": [],
   "source": [
    "all_games_merged_10.to_csv(\"true_and_predicted_statlines_10.csv\")"
   ]
  },
  {
   "cell_type": "code",
   "execution_count": null,
   "metadata": {},
   "outputs": [],
   "source": []
  }
 ],
 "metadata": {
  "kernelspec": {
   "display_name": "Python 3",
   "language": "python",
   "name": "python3"
  },
  "language_info": {
   "codemirror_mode": {
    "name": "ipython",
    "version": 3
   },
   "file_extension": ".py",
   "mimetype": "text/x-python",
   "name": "python",
   "nbconvert_exporter": "python",
   "pygments_lexer": "ipython3",
   "version": "3.6.2"
  }
 },
 "nbformat": 4,
 "nbformat_minor": 2
}
