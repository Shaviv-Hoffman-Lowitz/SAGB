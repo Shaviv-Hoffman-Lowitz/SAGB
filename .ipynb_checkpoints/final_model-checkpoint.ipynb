{
 "cells": [
  {
   "cell_type": "code",
   "execution_count": 1,
   "metadata": {},
   "outputs": [],
   "source": [
    "from basketball_reference_web_scraper import client\n",
    "from basketball_reference_web_scraper.data import Team\n",
    "from basketball_reference_web_scraper.data import OutputType\n",
    "import pandas as pd\n",
    "import datetime\n",
    "from datetime import datetime\n",
    "from dateutil.parser import parse\n",
    "from pulp import *\n",
    "import numpy as np"
   ]
  },
  {
   "cell_type": "code",
   "execution_count": 1,
   "metadata": {},
   "outputs": [
    {
     "ename": "ModuleNotFoundError",
     "evalue": "No module named 'basketball_reference_web_scraper'",
     "output_type": "error",
     "traceback": [
      "\u001b[1;31m---------------------------------------------------------------------------\u001b[0m",
      "\u001b[1;31mModuleNotFoundError\u001b[0m                       Traceback (most recent call last)",
      "\u001b[1;32m<ipython-input-1-e81786617277>\u001b[0m in \u001b[0;36m<module>\u001b[1;34m\u001b[0m\n\u001b[1;32m----> 1\u001b[1;33m \u001b[1;32mfrom\u001b[0m \u001b[0mbasketball_reference_web_scraper\u001b[0m \u001b[1;32mimport\u001b[0m \u001b[0mclient\u001b[0m\u001b[1;33m\u001b[0m\u001b[0m\n\u001b[0m\u001b[0;32m      2\u001b[0m \u001b[1;32mfrom\u001b[0m \u001b[0mbasketball_reference_web_scraper\u001b[0m\u001b[1;33m.\u001b[0m\u001b[0mdata\u001b[0m \u001b[1;32mimport\u001b[0m \u001b[0mTeam\u001b[0m\u001b[1;33m\u001b[0m\u001b[0m\n\u001b[0;32m      3\u001b[0m \u001b[1;32mfrom\u001b[0m \u001b[0mbasketball_reference_web_scraper\u001b[0m\u001b[1;33m.\u001b[0m\u001b[0mdata\u001b[0m \u001b[1;32mimport\u001b[0m \u001b[0mOutputType\u001b[0m\u001b[1;33m\u001b[0m\u001b[0m\n\u001b[0;32m      4\u001b[0m \u001b[1;33m\u001b[0m\u001b[0m\n\u001b[0;32m      5\u001b[0m \u001b[1;32mfor\u001b[0m \u001b[0mm\u001b[0m \u001b[1;32min\u001b[0m \u001b[0mrange\u001b[0m\u001b[1;33m(\u001b[0m\u001b[1;36m1\u001b[0m\u001b[1;33m,\u001b[0m \u001b[1;36m4\u001b[0m\u001b[1;33m)\u001b[0m\u001b[1;33m:\u001b[0m\u001b[1;33m\u001b[0m\u001b[0m\n",
      "\u001b[1;31mModuleNotFoundError\u001b[0m: No module named 'basketball_reference_web_scraper'"
     ]
    }
   ],
   "source": [
    "for m in range(1, 4):\n",
    "    if m == 2:\n",
    "        for d in range(1, 29):\n",
    "            file_name = \"./AllCSVs/{0}_{1}_2019_box_scores.csv\".format(m, d)\n",
    "            client.player_box_scores(day=d, month=m, year=2019, output_type=OutputType.CSV, output_file_path=file_name)\n",
    "    else:\n",
    "        for d in range(1, 32):\n",
    "            file_name = \"./AllCSVs/{0}_{1}_2019_box_scores.csv\".format(m, d)\n",
    "            client.player_box_scores(day=d, month=m, year=2019, output_type=OutputType.CSV, output_file_path=file_name)"
   ]
  },
  {
   "cell_type": "code",
   "execution_count": 3,
   "metadata": {},
   "outputs": [
    {
     "ename": "NameError",
     "evalue": "name 'pd' is not defined",
     "output_type": "error",
     "traceback": [
      "\u001b[1;31m---------------------------------------------------------------------------\u001b[0m",
      "\u001b[1;31mNameError\u001b[0m                                 Traceback (most recent call last)",
      "\u001b[1;32m<ipython-input-3-912b95abb238>\u001b[0m in \u001b[0;36m<module>\u001b[1;34m\u001b[0m\n\u001b[0;32m     13\u001b[0m         \u001b[1;32mfor\u001b[0m \u001b[0md\u001b[0m \u001b[1;32min\u001b[0m \u001b[0mrange\u001b[0m\u001b[1;33m(\u001b[0m\u001b[1;36m1\u001b[0m\u001b[1;33m,\u001b[0m \u001b[1;36m32\u001b[0m\u001b[1;33m)\u001b[0m\u001b[1;33m:\u001b[0m\u001b[1;33m\u001b[0m\u001b[0m\n\u001b[0;32m     14\u001b[0m             \u001b[0mfile_name\u001b[0m \u001b[1;33m=\u001b[0m \u001b[1;34m\"{0}_{1}_2019_box_scores.csv\"\u001b[0m\u001b[1;33m.\u001b[0m\u001b[0mformat\u001b[0m\u001b[1;33m(\u001b[0m\u001b[0mm\u001b[0m\u001b[1;33m,\u001b[0m \u001b[0md\u001b[0m\u001b[1;33m)\u001b[0m\u001b[1;33m\u001b[0m\u001b[0m\n\u001b[1;32m---> 15\u001b[1;33m             \u001b[0mtable\u001b[0m  \u001b[1;33m=\u001b[0m \u001b[0mpd\u001b[0m\u001b[1;33m.\u001b[0m\u001b[0mread_csv\u001b[0m\u001b[1;33m(\u001b[0m\u001b[0mfile_name\u001b[0m\u001b[1;33m)\u001b[0m\u001b[1;33m\u001b[0m\u001b[0m\n\u001b[0m\u001b[0;32m     16\u001b[0m             \u001b[0mdate\u001b[0m \u001b[1;33m=\u001b[0m \u001b[0mdatetime\u001b[0m\u001b[1;33m.\u001b[0m\u001b[0mdatetime\u001b[0m\u001b[1;33m(\u001b[0m\u001b[1;36m2019\u001b[0m\u001b[1;33m,\u001b[0m \u001b[0mm\u001b[0m\u001b[1;33m,\u001b[0m \u001b[0md\u001b[0m\u001b[1;33m)\u001b[0m\u001b[1;33m\u001b[0m\u001b[0m\n\u001b[0;32m     17\u001b[0m             \u001b[0mdates\u001b[0m \u001b[1;33m=\u001b[0m \u001b[1;33m[\u001b[0m\u001b[0mdate\u001b[0m\u001b[1;33m]\u001b[0m \u001b[1;33m*\u001b[0m \u001b[0mlen\u001b[0m\u001b[1;33m(\u001b[0m\u001b[0mtable\u001b[0m\u001b[1;33m)\u001b[0m\u001b[1;33m\u001b[0m\u001b[0m\n",
      "\u001b[1;31mNameError\u001b[0m: name 'pd' is not defined"
     ]
    }
   ],
   "source": [
    "all_tables = []\n",
    "for m in range(1, 4):\n",
    "    if m == 2:\n",
    "        for d in range(1, 29):\n",
    "            file_name = \"./AllCSVs/{0}_{1}_2019_box_scores.csv\".format(m, d)\n",
    "            table  = pd.read_csv(file_name)\n",
    "            date = datetime.datetime(2019, m, d)\n",
    "            dates = [date] * len(table)\n",
    "            table[\"Date\"] = dates\n",
    "            all_tables.append(table)\n",
    "\n",
    "    else:\n",
    "        for d in range(1, 32):\n",
    "            file_name = \"./AllCSVs/{0}_{1}_2019_box_scores.csv\".format(m, d)\n",
    "            table  = pd.read_csv(file_name)\n",
    "            date = datetime.datetime(2019, m, d)\n",
    "            dates = [date] * len(table)\n",
    "            table[\"Date\"] = dates\n",
    "            all_tables.append(table)"
   ]
  },
  {
   "cell_type": "code",
   "execution_count": 5,
   "metadata": {},
   "outputs": [
    {
     "ename": "IndexError",
     "evalue": "list index out of range",
     "output_type": "error",
     "traceback": [
      "\u001b[1;31m---------------------------------------------------------------------------\u001b[0m",
      "\u001b[1;31mIndexError\u001b[0m                                Traceback (most recent call last)",
      "\u001b[1;32m<ipython-input-5-e2d8930810ee>\u001b[0m in \u001b[0;36m<module>\u001b[1;34m\u001b[0m\n\u001b[1;32m----> 1\u001b[1;33m \u001b[0mfull_df\u001b[0m \u001b[1;33m=\u001b[0m \u001b[0mall_tables\u001b[0m\u001b[1;33m[\u001b[0m\u001b[1;36m0\u001b[0m\u001b[1;33m]\u001b[0m\u001b[1;33m\u001b[0m\u001b[0m\n\u001b[0m\u001b[0;32m      2\u001b[0m \u001b[1;32mfor\u001b[0m \u001b[0mi\u001b[0m \u001b[1;32min\u001b[0m \u001b[0mrange\u001b[0m\u001b[1;33m(\u001b[0m\u001b[1;36m1\u001b[0m\u001b[1;33m,\u001b[0m \u001b[0mlen\u001b[0m\u001b[1;33m(\u001b[0m\u001b[0mall_tables\u001b[0m\u001b[1;33m)\u001b[0m\u001b[1;33m)\u001b[0m\u001b[1;33m:\u001b[0m\u001b[1;33m\u001b[0m\u001b[0m\n\u001b[0;32m      3\u001b[0m     \u001b[0mcurrent_table\u001b[0m \u001b[1;33m=\u001b[0m \u001b[0mall_tables\u001b[0m\u001b[1;33m[\u001b[0m\u001b[0mi\u001b[0m\u001b[1;33m]\u001b[0m\u001b[1;33m\u001b[0m\u001b[0m\n\u001b[0;32m      4\u001b[0m     \u001b[0mfull_df\u001b[0m \u001b[1;33m=\u001b[0m \u001b[0mfull_df\u001b[0m\u001b[1;33m.\u001b[0m\u001b[0mappend\u001b[0m\u001b[1;33m(\u001b[0m\u001b[0mcurrent_table\u001b[0m\u001b[1;33m)\u001b[0m\u001b[1;33m\u001b[0m\u001b[0m\n\u001b[0;32m      5\u001b[0m \u001b[0mfull_df\u001b[0m\u001b[1;33m.\u001b[0m\u001b[0mto_csv\u001b[0m\u001b[1;33m(\u001b[0m\u001b[1;34m\"./all_games.csv\"\u001b[0m\u001b[1;33m)\u001b[0m\u001b[1;33m\u001b[0m\u001b[0m\n",
      "\u001b[1;31mIndexError\u001b[0m: list index out of range"
     ]
    }
   ],
   "source": [
    "full_df = all_tables[0]\n",
    "for i in range(1, len(all_tables)):\n",
    "    current_table = all_tables[i]\n",
    "    full_df = full_df.append(current_table)\n",
    "full_df.to_csv(\"./OutputCSVs/all_games.csv\")"
   ]
  },
  {
   "cell_type": "code",
   "execution_count": null,
   "metadata": {},
   "outputs": [],
   "source": [
    "df = pd.read_csv(\"./OutputCSVs/teams_stats.csv\")\n",
    "df[\"Team\"] = df[\"Team\"].str.upper()\n",
    "all_games = pd.read_csv(\"./OutputCSVs/all_games.csv\")\n",
    "x = all_games[[\"team\", \"opponent\"]].loc[0][\"team\"]\n",
    "df[df[\"Team\"] == x][\"TOV%\"]\n",
    "\n",
    "team_def = []\n",
    "team_pace = []\n",
    "team_tov = []\n",
    "opp_def = []\n",
    "opp_pace = []\n",
    "opp_tov = []\n",
    "all_games_teams = all_games[[\"team\", \"opponent\"]]\n",
    "\n",
    "for i in range(len(all_games_teams)):\n",
    "    game = all_games_teams.loc[i]\n",
    "    team = game[\"team\"]\n",
    "    opponent = game[\"opponent\"]\n",
    "    team_def.append(df[df[\"Team\"] == team][\"DRtg\"].iloc[0])\n",
    "    team_pace.append(df[df[\"Team\"] == team][\"Pace\"].iloc[0])\n",
    "    team_tov.append(df[df[\"Team\"] == team][\"TOV%\"].iloc[0])\n",
    "    opp_def.append(df[df[\"Team\"] == opponent][\"DRtg\"].iloc[0])\n",
    "    opp_pace.append(df[df[\"Team\"] == opponent][\"Pace\"].iloc[0])\n",
    "    opp_tov.append(df[df[\"Team\"] == opponent][\"TOV%\"].iloc[0])\n",
    "    \n",
    "all_games[\"Team Defensive Rating\"] = team_def\n",
    "all_games[\"Team Pace\"] = team_pace\n",
    "all_games[\"Team Turnover %\"] = team_tov\n",
    "all_games[\"Opponent Defensive Rating\"] = opp_def\n",
    "all_games[\"Opponent Pace\"] = opp_pace\n",
    "all_games[\"Opponent Turnover %\"] = opp_tov\n",
    "\n",
    "all_games.to_csv(\"./OutputCSVs/all_games_new.csv\")\n",
    "df = pd.read_csv(\"./OutputCSVs/all_games_new.csv\")\n",
    "attempted_2s = df[\"attempted_field_goals\"] - df[\"attempted_three_point_field_goals\"]\n",
    "made_2s = df[\"made_field_goals\"] - df[\"made_three_point_field_goals\"]\n",
    "rebounds = df[\"offensive_rebounds\"] + df[\"defensive_rebounds\"]\n",
    "at_home = df[\"location\"] == \"HOME\"\n",
    "df[\"attempted_two_point_field_goals\"] = attempted_2s\n",
    "df[\"made_two_point_field_goals\"] = made_2s\n",
    "df[\"total_rebounds\"] = rebounds\n",
    "df[\"at_home\"] = at_home\n",
    "df.to_csv(\"./OutputCSVs/all_games_updated.csv\")\n",
    "all_games_actual = pd.read_csv(\"./OutputCSVs/all_games_updated.csv\")\n",
    "all_games_actual =  all_games_actual.iloc[:, 3:].reset_index()"
   ]
  },
  {
   "cell_type": "code",
   "execution_count": null,
   "metadata": {},
   "outputs": [],
   "source": [
    "def get_stats(player, date, number_rows):\n",
    "    converted_datetime = datetime.strptime(date, '%Y-%m-%d')\n",
    "    player_rows = files.loc[files['name'] == player]\n",
    "    #print(player_rows)\n",
    "    selected_rows = []\n",
    "    if (len(player_rows)) < number_rows:\n",
    "        for i in range(len(player_rows)):\n",
    "            selected_rows.append(player_rows.iloc[i])\n",
    "        return pd.DataFrame(selected_rows)\n",
    "    index = 0\n",
    "    for i in range(len(player_rows)):\n",
    "        curr_date = player_rows.iloc[i]['Date']\n",
    "        if datetime.strptime(curr_date, '%Y-%m-%d') >= converted_datetime:\n",
    "            index = i - 1\n",
    "            break\n",
    "    if index != 0:\n",
    "        if index + 1 - number_rows < 0:\n",
    "            for i in range(index + 1):\n",
    "                selected_rows.append(player_rows.iloc[i])\n",
    "        else:\n",
    "            for i in range(index + 1 - number_rows, index + 1):\n",
    "                selected_rows.append(player_rows.iloc[i])\n",
    "#     elif converted_datetime >= players_rows[len(player_rows) - 1]:\n",
    "    else:\n",
    "        for i in range(len(player_rows) - number_rows, len(player_rows)):\n",
    "            selected_rows.append(player_rows.iloc[i])\n",
    "    return pd.DataFrame(selected_rows)"
   ]
  },
  {
   "cell_type": "code",
   "execution_count": null,
   "metadata": {},
   "outputs": [],
   "source": [
    "def get_points(row_data):\n",
    "    three_pt_fgs = row_data['made_three_point_field_goals']\n",
    "    two_pt_fgs = row_data['made_two_point_field_goals']\n",
    "    made_fts = row_data['made_free_throws']\n",
    "    total_rebounds = row_data['rebounds']\n",
    "    assists = row_data['assists']\n",
    "    blocks = row_data['blocks']\n",
    "    steals = row_data['steals']\n",
    "    turnovers = row_data['turnovers']\n",
    "    FD_points = three_pt_fgs * 3 + two_pt_fgs * 2 + made_fts + total_rebounds * 1.2 + assists * 1.5 + blocks * 3 + steals * 3 - turnovers\n",
    "    FD_dollars = FD_points * 200\n",
    "    return (FD_points, FD_dollars)"
   ]
  },
  {
   "cell_type": "code",
   "execution_count": null,
   "metadata": {},
   "outputs": [],
   "source": [
    "def weight_function(statistic, weight):\n",
    "    s = 0\n",
    "    if type(statistic) == np.ndarray:\n",
    "        for i in range(len(statistic)):\n",
    "            s += statistic[len(statistic) - i - 1] * (weight ** i)\n",
    "    else:\n",
    "        for i in range(len(statistic)):\n",
    "            s += statistic.iloc[len(statistic) - i - 1,] * (weight ** i)\n",
    "    return s"
   ]
  },
  {
   "cell_type": "code",
   "execution_count": null,
   "metadata": {},
   "outputs": [],
   "source": [
    "def time_weighted_average(rows, statistic, weight):\n",
    "    if rows.empty:\n",
    "        return 0\n",
    "    stat = rows[statistic]\n",
    "    this_num = 1 / weight_function(np.ones(len(stat)), weight)\n",
    "    return this_num * weight_function(stat, weight)\n",
    "player_box_scores = pd.read_csv('./OutputCSVs/all_games_updated.csv')\n",
    "\n",
    "input_statistics = [\"name\", \"team\", \"date\", \"location\", \"opponent\", \"made_field_goals\", \"made_two_point_field_goals\", \"attempted_two_point_field_goals\", \"attempted_field_goals\", \"made_three_point_field_goals\", \"attempted_three_point_field_goals\", \"attempted_free_throws\", \"made_free_throws\", \"offensive_rebounds\", \"defensive_rebounds\", \"assists\", \"blocks\", \"turnovers\", \"steals\"]"
   ]
  },
  {
   "cell_type": "code",
   "execution_count": null,
   "metadata": {},
   "outputs": [],
   "source": [
    "def statline_predictor(player_box_scores, input_statistics, sample_size = 5, weight = .8):\n",
    "    predicted_statlines = pd.DataFrame(index = player_box_scores.index, columns = input_statistics).fillna(0).T\n",
    "    for box_index in player_box_scores.index:\n",
    "        box_score = player_box_scores.loc[box_index]\n",
    "        player_name = box_score[\"name\"]\n",
    "        game_date = box_score[\"Date\"]\n",
    "        last_n_rows = get_stats(player_name, game_date, sample_size)\n",
    "        weighted_stats = [player_name, box_score[\"team\"], game_date, box_score[\"location\"], box_score[\"opponent\"]]\n",
    "        for stat in input_statistics[5:]:\n",
    "            weighted_stats.append(round(time_weighted_average(last_n_rows, stat, weight), 2))\n",
    "        predicted_statlines[box_index] = weighted_stats\n",
    "    return predicted_statlines.T"
   ]
  },
  {
   "cell_type": "code",
   "execution_count": null,
   "metadata": {},
   "outputs": [],
   "source": [
    "predictions_samplesize5 = statline_predictor(files, input_statistics, sample_size = 5)\n",
    "predictions_samplesize5.to_csv(\"./OutputCSVs/predicted_statlines_trailing_5_games.csv\")\n",
    "predictions_samplesize10 = statline_predictor(files, input_statistics, sample_size = 10)\n",
    "predictions_samplesize10.to_csv(\"./OutputCSVs/predicted_statlines_trailing_10_games.csv\")"
   ]
  },
  {
   "cell_type": "code",
   "execution_count": null,
   "metadata": {},
   "outputs": [],
   "source": [
    "def rebound_predictor_5(weighted_stats):\n",
    "    return 3.495 + .9489 * weighted_stats[\"offensive_rebounds_y\"] + .2874 * weighted_stats[\"defensive_rebounds_y\"]\n",
    "def freethrow_predictor_5(weighted_stats):\n",
    "    return 1.373 + .6217 * weighted_stats[\"attempted_free_throws_y\"] + -.0373 * weighted_stats[\"attempted_field_goals_y\"] -.3289 * (weighted_stats[\"location_y\"] == \"HOME\")\n",
    "def twopt_predictor_5(weighted_stats):\n",
    "    return max(0, -5.395 + .6064 * weighted_stats[\"attempted_two_point_field_goals_y\"] - .2542 * weighted_stats[\"attempted_field_goals_y\"] + .071 * weighted_stats[\"Opponent Defensive Rating\"])\n",
    "def threept_predictor_5(weighted_stats):\n",
    "    return .766 + .214 * weighted_stats[\"attempted_three_point_field_goals_y\"]\n",
    "def assist_predictor_5(weighted_stats):\n",
    "    return 2.06 + .532 * weighted_stats[\"assists_y\"] - .064 * weighted_stats[\"blocks_y\"]\n",
    "def block_predictor_5(weighted_stats):\n",
    "    return .329 + .182 * weighted_stats[\"offensive_rebounds_y\"] - .038 * weighted_stats[\"defensive_rebounds_y\"] + .424 * weighted_stats[\"blocks_y\"]\n",
    "def steal_predictor_5(weighted_stats):\n",
    "    return max(0, -.936 + .339 * weighted_stats[\"steals_y\"] + .129 * weighted_stats[\"Opponent Turnover %\"])\n",
    "def turnover_predictor_5(weighted_stats):\n",
    "    return max(0, -2.589 + .18 * weighted_stats[\"turnovers_y\"] + .121 * weighted_stats[\"assists_y\"] + .032 * weighted_stats[\"Opponent Defensive Rating\"])"
   ]
  },
  {
   "cell_type": "code",
   "execution_count": null,
   "metadata": {},
   "outputs": [],
   "source": [
    "all_games_predicted_5 = pd.read_csv(\"./OutputCSVs/predicted_statlines_trailing_5_games.csv\")\n",
    "all_games_predicted_5 = all_games_predicted_5.rename(columns={\"Unnamed: 0\": \"indexr\"})\n",
    "all_games_merged_5 = all_games_actual.merge(all_games_predicted_5, left_on=\"index\", right_on=\"indexr\")\n",
    "all_games_predicted_10 = pd.read_csv(\"./OutputCSVs/predicted_statlines_trailing_10_games.csv\")\n",
    "all_games_predicted_10 = all_games_predicted_10.rename(columns={\"Unnamed: 0\": \"indexr\"})\n",
    "all_games_merged_10 = all_games_actual.merge(all_games_predicted_10, left_on=\"index\", right_on=\"indexr\")\n",
    "all_games_merged_5.to_csv(\"./OutputCSVs/true_and_predicted_statlines_5.csv\")\n",
    "all_games_merged_10.to_csv(\"./OutputCSVs/true_and_predicted_statlines_10.csv\")"
   ]
  },
  {
   "cell_type": "code",
   "execution_count": null,
   "metadata": {},
   "outputs": [],
   "source": [
    "weighted_preds = pd.read_csv(\"./OutputCSVs/true_and_predicted_statlines_5.csv\")"
   ]
  },
  {
   "cell_type": "code",
   "execution_count": null,
   "metadata": {},
   "outputs": [],
   "source": [
    "output_statistics = [\"name\", \"team\", \"date\", \"location\", \"opponent\", \"made_two_point_field_goals\", \"made_three_point_field_goals\", \"made_free_throws\", \"rebounds\", \"assists\", \"blocks\", \"steals\", \"turnovers\"]\n",
    "\n",
    "def statline_output(weighted_predicted_lines):\n",
    "    output_statlines = pd.DataFrame(index = weighted_predicted_lines.index, columns = output_statistics).fillna(0).T\n",
    "    for box_index in weighted_predicted_lines.index:\n",
    "        weighted_line = weighted_predicted_lines.loc[box_index]\n",
    "        output_stats = [weighted_line[\"name_x\"], weighted_line[\"team_x\"], weighted_line[\"Date\"], weighted_line[\"location_x\"], weighted_line[\"opponent_x\"]]\n",
    "        output_stats.append(twopt_predictor_5(weighted_line))\n",
    "        output_stats.append(threept_predictor_5(weighted_line))\n",
    "        output_stats.append(freethrow_predictor_5(weighted_line))\n",
    "        output_stats.append(rebound_predictor_5(weighted_line))\n",
    "        output_stats.append(assist_predictor_5(weighted_line))\n",
    "        output_stats.append(block_predictor_5(weighted_line))\n",
    "        output_stats.append(steal_predictor_5(weighted_line))\n",
    "        output_stats.append(block_predictor_5(weighted_line))\n",
    "        output_statlines[box_index] = output_stats\n",
    "    return output_statlines.T\n",
    "output_picks = statline_output(weighted_preds)\n",
    "full_test_output = output_picks[output_picks[\"date\"] > \"2019-02-01\"]\n",
    "full_test_output.to_csv(\"./OutputCSVs/predicted_statlines_feb_mar_2019.csv\")"
   ]
  },
  {
   "cell_type": "code",
   "execution_count": null,
   "metadata": {},
   "outputs": [],
   "source": [
    "feb_march_data = pd.read_csv('./OutputCSVs/predicted_statlines_feb_mar_2019.csv')\n",
    "FD_points_array = []\n",
    "FD_dollars_array = []\n",
    "sum_points = 0\n",
    "counter = 0\n",
    "for index, row in feb_march_data.iterrows():\n",
    "    tuple_values = get_points(row)\n",
    "    FD_points_array.append(tuple_values[0])\n",
    "    FD_dollars_array.append(tuple_values[1])\n",
    "    sum_points += tuple_values[0]\n",
    "    counter += 1\n",
    "feb_march_data['FanDuel_Points'] = FD_points_array\n",
    "feb_march_data['FanDuel_Dollars'] = FD_dollars_array\n",
    "feb_march_data.to_csv(\"./OutputCSVs/Feb_March_statline_with_FanDuel_dollars.csv\")"
   ]
  },
  {
   "cell_type": "code",
   "execution_count": null,
   "metadata": {},
   "outputs": [],
   "source": [
    "def generate_optimal_lineup(players, positions, values, costs, budget):\n",
    "    num_variables = len(players)\n",
    "    \n",
    "    lp = LpProblem(\"My LP Problem\", pulp.LpMaximize)\n",
    "    \n",
    "    d = {}\n",
    "    for i in range(0, num_variables):\n",
    "        d[players[i]] = LpVariable(players[i], cat=\"Binary\")\n",
    "    \n",
    "    objective = sum(np.array(values) * np.array(list(d.values())))\n",
    "    lp += objective\n",
    "    \n",
    "    pg_constraint = 0\n",
    "    sg_constraint = 0\n",
    "    sf_constraint = 0\n",
    "    pf_constraint = 0\n",
    "    c_constraint = 0\n",
    "    for i in range(0, len(positions)):\n",
    "        if positions[i] == \"PG\":\n",
    "            pg_constraint += d[players[i]]\n",
    "        elif positions[i] == \"SG\":\n",
    "            sg_constraint += d[players[i]]\n",
    "        elif positions[i] == \"SF\":\n",
    "            sf_constraint += d[players[i]]\n",
    "        elif positions[i] == \"PF\":\n",
    "            pf_constraint += d[players[i]]\n",
    "        else:\n",
    "            c_constraint += d[players[i]]\n",
    "    lp += pg_constraint == 2\n",
    "    lp += sg_constraint == 2\n",
    "    lp += sf_constraint == 2\n",
    "    lp += pf_constraint == 2\n",
    "    lp += c_constraint == 1\n",
    "    \n",
    "    cost = sum(np.array(costs) * np.array(list(d.values())))\n",
    "    lp += cost <= budget\n",
    "    \n",
    "    lp.solve()\n",
    "    \n",
    "    lineup = [variable.name for variable in lp.variables() if variable.varValue == 1]\n",
    "    print(lineup)\n",
    "    #for variable in lp.variables():\n",
    "    #    print (\"{} = {}\".format(variable.name, variable.varValue))\n",
    "    #print(pulp.value(lp.objective))"
   ]
  },
  {
   "cell_type": "code",
   "execution_count": null,
   "metadata": {},
   "outputs": [],
   "source": [
    "all_tables = []\n",
    "def box_scores_for_range_of_days(start_date, end_date):\n",
    "    start_month = start_date.month\n",
    "    end_month = end_date.month\n",
    "    for m in range(start_month, end_month + 1):\n",
    "        if m == start_month:\n",
    "            start_day = start_date.day\n",
    "        else:\n",
    "            start_day = 1\n",
    "        if m == end_month:\n",
    "            end_day = end_date.day\n",
    "        else:\n",
    "            if m == 2:\n",
    "                end_day = 29\n",
    "            elif m in [9, 4, 6, 11]:\n",
    "                end_day = 31\n",
    "            else:\n",
    "                end_day = 32\n",
    "        \n",
    "        for d in range(start_day, end_day):\n",
    "            file_name = \"./AllCSVs/{0}_{1}_2019_box_scores.csv\".format(m, d)\n",
    "            client.player_box_scores(day=d, month=m, year=2019, output_type=OutputType.CSV, output_file_path=file_name)\n",
    "            table = pd.read_csv(file_name)\n",
    "            date = datetime.datetime(2019, m, d)\n",
    "            dates = [date] * len(table)\n",
    "            table[\"Date\"] = dates\n",
    "            all_tables.append(table)\n",
    "\n",
    "    full_df = all_tables[0]\n",
    "    for i in range(1, len(all_tables)):\n",
    "        current_table = all_tables[i]\n",
    "        full_df = full_df.append(current_table)\n",
    "    return full_df"
   ]
  },
  {
   "cell_type": "code",
   "execution_count": null,
   "metadata": {},
   "outputs": [],
   "source": [
    "def make_predictions(start_date, end_date):\n",
    "    input_statistics = [\"name\", \"team\", \"date\", \"location\", \"opponent\", \"made_field_goals\", \"made_two_point_field_goals\", \"attempted_two_point_field_goals\", \"attempted_field_goals\", \"made_three_point_field_goals\", \"attempted_three_point_field_goals\", \"attempted_free_throws\", \"made_free_throws\", \"offensive_rebounds\", \"defensive_rebounds\", \"assists\", \"blocks\", \"turnovers\", \"steals\"]\n",
    "    full_df = box_scores_for_range_of_days(start_date, end_date)\n",
    "    predicted_statlines = statline_output(statline_predictor(full_df, input_statistics))\n",
    "    "
   ]
  }
 ],
 "metadata": {
  "kernelspec": {
   "display_name": "Python 3",
   "language": "python",
   "name": "python3"
  },
  "language_info": {
   "codemirror_mode": {
    "name": "ipython",
    "version": 3
   },
   "file_extension": ".py",
   "mimetype": "text/x-python",
   "name": "python",
   "nbconvert_exporter": "python",
   "pygments_lexer": "ipython3",
   "version": "3.7.1"
  }
 },
 "nbformat": 4,
 "nbformat_minor": 2
}
