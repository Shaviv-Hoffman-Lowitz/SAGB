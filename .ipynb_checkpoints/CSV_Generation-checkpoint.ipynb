{
 "cells": [
  {
   "cell_type": "code",
   "execution_count": null,
   "metadata": {},
   "outputs": [],
   "source": [
    "from basketball_reference_web_scraper import client\n",
    "from basketball_reference_web_scraper.data import Team\n",
    "from basketball_reference_web_scraper.data import OutputType\n",
    "\n",
    "for m in range(1, 4):\n",
    "    if m == 2:\n",
    "        for d in range(1, 29):\n",
    "            file_name = \"./{0}_{1}_2017_box_scores.csv\".format(m, d)\n",
    "            client.player_box_scores(day=d, month=m, year=2019, output_type=OutputType.CSV, output_file_path=file_name)\n",
    "    else:\n",
    "        for d in range(1, 32):\n",
    "            file_name = \"./{0}_{1}_2017_box_scores.csv\".format(m, d)\n",
    "            client.player_box_scores(day=d, month=m, year=2019, output_type=OutputType.CSV, output_file_path=file_name)\n"
   ]
  }
 ],
 "metadata": {
  "kernelspec": {
   "display_name": "Python 3",
   "language": "python",
   "name": "python3"
  },
  "language_info": {
   "codemirror_mode": {
    "name": "ipython",
    "version": 3
   },
   "file_extension": ".py",
   "mimetype": "text/x-python",
   "name": "python",
   "nbconvert_exporter": "python",
   "pygments_lexer": "ipython3",
   "version": "3.6.2"
  }
 },
 "nbformat": 4,
 "nbformat_minor": 2
}
