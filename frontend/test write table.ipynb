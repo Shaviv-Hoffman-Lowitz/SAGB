{
 "cells": [
  {
   "cell_type": "code",
   "execution_count": 71,
   "metadata": {},
   "outputs": [],
   "source": [
    "import pandas as pd\n",
    "from IPython.display import Image, HTML"
   ]
  },
  {
   "cell_type": "code",
   "execution_count": 72,
   "metadata": {},
   "outputs": [],
   "source": [
    "# first two rows from sample output CSV\n",
    "data = [[\"James Harden\",\"HOUSTON ROCKETS\",\"2019-02-02\",\"AWAY\",\"UTAH JAZZ\",2.5871080000000006,4.008100000000001,7.872057999999999,7.291646999999999,5.59696,0.9731,1.5892500000000003,0.9731],\n",
    "[\"Kemba Walker\",\"CHARLOTTE HORNETS\",\"2019-02-02\",\"HOME\",\"CHICAGO BULLS\",4.239632000000001,2.2854,2.346222,4.647891,4.25148,0.64966,0.9497699999999998,0.64966]]\n",
    "\n",
    "cols = [\"name\",\"team\",\"date\",\"location\",\"opponent\",\"made_two_point_field_goals\",\"made_three_point_field_goals\",\"made_free_throws\",\"rebounds\",\"assists\",\"blocks\",\"steals\",\"turnovers\"]"
   ]
  },
  {
   "cell_type": "code",
   "execution_count": 73,
   "metadata": {},
   "outputs": [
    {
     "data": {
      "text/html": [
       "<div>\n",
       "<style scoped>\n",
       "    .dataframe tbody tr th:only-of-type {\n",
       "        vertical-align: middle;\n",
       "    }\n",
       "\n",
       "    .dataframe tbody tr th {\n",
       "        vertical-align: top;\n",
       "    }\n",
       "\n",
       "    .dataframe thead th {\n",
       "        text-align: right;\n",
       "    }\n",
       "</style>\n",
       "<table border=\"1\" class=\"dataframe\">\n",
       "  <thead>\n",
       "    <tr style=\"text-align: right;\">\n",
       "      <th></th>\n",
       "      <th>name</th>\n",
       "      <th>team</th>\n",
       "      <th>date</th>\n",
       "      <th>location</th>\n",
       "      <th>opponent</th>\n",
       "      <th>made_two_point_field_goals</th>\n",
       "      <th>made_three_point_field_goals</th>\n",
       "      <th>made_free_throws</th>\n",
       "      <th>rebounds</th>\n",
       "      <th>assists</th>\n",
       "      <th>blocks</th>\n",
       "      <th>steals</th>\n",
       "      <th>turnovers</th>\n",
       "    </tr>\n",
       "  </thead>\n",
       "  <tbody>\n",
       "    <tr>\n",
       "      <th>1</th>\n",
       "      <td>James Harden</td>\n",
       "      <td>HOUSTON ROCKETS</td>\n",
       "      <td>2019-02-02</td>\n",
       "      <td>AWAY</td>\n",
       "      <td>UTAH JAZZ</td>\n",
       "      <td>2.587108</td>\n",
       "      <td>4.0081</td>\n",
       "      <td>7.872058</td>\n",
       "      <td>7.291647</td>\n",
       "      <td>5.59696</td>\n",
       "      <td>0.97310</td>\n",
       "      <td>1.58925</td>\n",
       "      <td>0.97310</td>\n",
       "    </tr>\n",
       "    <tr>\n",
       "      <th>2</th>\n",
       "      <td>Kemba Walker</td>\n",
       "      <td>CHARLOTTE HORNETS</td>\n",
       "      <td>2019-02-02</td>\n",
       "      <td>HOME</td>\n",
       "      <td>CHICAGO BULLS</td>\n",
       "      <td>4.239632</td>\n",
       "      <td>2.2854</td>\n",
       "      <td>2.346222</td>\n",
       "      <td>4.647891</td>\n",
       "      <td>4.25148</td>\n",
       "      <td>0.64966</td>\n",
       "      <td>0.94977</td>\n",
       "      <td>0.64966</td>\n",
       "    </tr>\n",
       "  </tbody>\n",
       "</table>\n",
       "</div>"
      ],
      "text/plain": [
       "           name               team        date location       opponent  \\\n",
       "1  James Harden  HOUSTON ROCKETS    2019-02-02  AWAY     UTAH JAZZ       \n",
       "2  Kemba Walker  CHARLOTTE HORNETS  2019-02-02  HOME     CHICAGO BULLS   \n",
       "\n",
       "   made_two_point_field_goals  made_three_point_field_goals  made_free_throws  \\\n",
       "1  2.587108                    4.0081                        7.872058           \n",
       "2  4.239632                    2.2854                        2.346222           \n",
       "\n",
       "   rebounds  assists   blocks   steals  turnovers  \n",
       "1  7.291647  5.59696  0.97310  1.58925  0.97310    \n",
       "2  4.647891  4.25148  0.64966  0.94977  0.64966    "
      ]
     },
     "execution_count": 73,
     "metadata": {},
     "output_type": "execute_result"
    }
   ],
   "source": [
    "df = pd.DataFrame(data, index=[1,2],columns=cols)\n",
    "df"
   ]
  },
  {
   "cell_type": "code",
   "execution_count": 74,
   "metadata": {},
   "outputs": [],
   "source": [
    "# convert link to html tags \n",
    "def path_to_image_html(path):\n",
    "    return '<img src=\"'+ path + '\" width=\"60\" >'\n",
    "\n",
    "images = [\"https://d2cwpp38twqe55.cloudfront.net/req/202005142/images/players/hardeja01.jpg\",\n",
    "         \"https://d2cwpp38twqe55.cloudfront.net/req/202005142/images/players/walkeke02.jpg\"]\n",
    "df[\"pic\"] = images\n",
    "\n",
    "pd.set_option('display.max_colwidth', -1)"
   ]
  },
  {
   "cell_type": "code",
   "execution_count": 75,
   "metadata": {},
   "outputs": [],
   "source": [
    "#render dataframe as html\n",
    "html = HTML(df.to_html(escape=False ,formatters=dict(pic=path_to_image_html)))\n",
    "a = html.data\n",
    "#write html to file\n",
    "with open('result.html', 'w') as f:\n",
    "    f.write(a)"
   ]
  }
 ],
 "metadata": {
  "kernelspec": {
   "display_name": "Python 3",
   "language": "python",
   "name": "python3"
  },
  "language_info": {
   "codemirror_mode": {
    "name": "ipython",
    "version": 3
   },
   "file_extension": ".py",
   "mimetype": "text/x-python",
   "name": "python",
   "nbconvert_exporter": "python",
   "pygments_lexer": "ipython3",
   "version": "3.7.1"
  }
 },
 "nbformat": 4,
 "nbformat_minor": 4
}
