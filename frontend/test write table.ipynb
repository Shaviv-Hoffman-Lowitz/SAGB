{
 "cells": [
  {
   "cell_type": "code",
   "execution_count": 11,
   "metadata": {},
   "outputs": [],
   "source": [
    "data = {\n",
    "'user_one': {'project_a': ['branch_1', 'branch_2'],\n",
    "          'project_b': ['branch_1']},\n",
    "'user_two': {'project_x': ['branch_x1', 'branch_b'] }\n",
    "}"
   ]
  },
  {
   "cell_type": "code",
   "execution_count": 12,
   "metadata": {},
   "outputs": [],
   "source": [
    "table = \"<table border=1 ><tr><th>user</th><th>Project</th><th>Branch</th></tr>\"\n",
    "tr = \"\"\n",
    "td_1 = \"\"\n",
    "td_2 = \"\"\n",
    "for author, projects in data.items():\n",
    "    # reset the value for new input.\n",
    "    td_1 = \"\"\n",
    "    td_2 = \"\"\n",
    "    for project, branches in projects.items():\n",
    "        td_1 += \"{}<hr>\".format(project)\n",
    "        for branch in branches:\n",
    "            td_2 += \"{}<hr>\".format(branch)\n",
    "    tr += \"<tr><td valign='top'>{}</td><td valign='top'>{}</td><td valign='top'>{}</td></tr>\".format(author, td_1, td_2)\n",
    "\n",
    "end = \"</table>\"\n",
    "table = table + tr + end"
   ]
  },
  {
   "cell_type": "code",
   "execution_count": 13,
   "metadata": {},
   "outputs": [
    {
     "data": {
      "text/plain": [
       "\"<table border=1 ><tr><th>user</th><th>Project</th><th>Branch</th></tr><tr><td valign='top'>user_one</td><td valign='top'>project_a<hr>project_b<hr></td><td valign='top'>branch_1<hr>branch_2<hr>branch_1<hr></td></tr><tr><td valign='top'>user_two</td><td valign='top'>project_x<hr></td><td valign='top'>branch_x1<hr>branch_b<hr></td></tr></table>\""
      ]
     },
     "execution_count": 13,
     "metadata": {},
     "output_type": "execute_result"
    }
   ],
   "source": [
    "table"
   ]
  },
  {
   "cell_type": "code",
   "execution_count": 14,
   "metadata": {},
   "outputs": [],
   "source": [
    "file_ = open('result.html', 'w')\n",
    "file_.write(table)\n",
    "file_.close()"
   ]
  },
  {
   "cell_type": "code",
   "execution_count": null,
   "metadata": {},
   "outputs": [],
   "source": []
  }
 ],
 "metadata": {
  "kernelspec": {
   "display_name": "Python 3",
   "language": "python",
   "name": "python3"
  },
  "language_info": {
   "codemirror_mode": {
    "name": "ipython",
    "version": 3
   },
   "file_extension": ".py",
   "mimetype": "text/x-python",
   "name": "python",
   "nbconvert_exporter": "python",
   "pygments_lexer": "ipython3",
   "version": "3.6.9"
  }
 },
 "nbformat": 4,
 "nbformat_minor": 4
}
