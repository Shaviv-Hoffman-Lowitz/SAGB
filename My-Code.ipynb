{
 "cells": [
  {
   "cell_type": "code",
   "execution_count": 1,
   "metadata": {},
   "outputs": [],
   "source": [
    "import pandas as pd\n",
    "from datetime import datetime\n",
    "from dateutil.parser import parse\n",
    "files = pd.read_csv('all_games.csv')"
   ]
  },
  {
   "cell_type": "code",
   "execution_count": 2,
   "metadata": {},
   "outputs": [],
   "source": [
    "def get_stats(player, date, number_rows):\n",
    "    converted_datetime = datetime.strptime(date, '%Y-%m-%d')\n",
    "    player_rows = files.loc[files['name'] == player]\n",
    "    #print(player_rows)\n",
    "    selected_rows = []\n",
    "    if (len(player_rows)) < number_rows:\n",
    "        for i in range(len(player_rows)):\n",
    "            selected_rows.append(player_rows.iloc[i])\n",
    "        return pd.DataFrame(selected_rows)\n",
    "    index = 0\n",
    "    for i in range(len(player_rows)):\n",
    "        curr_date = player_rows.iloc[i]['Date']\n",
    "        if datetime.strptime(curr_date, '%Y-%m-%d') >= converted_datetime:\n",
    "            index = i - 1\n",
    "            break\n",
    "    if index != 0:\n",
    "        if index + 1 - number_rows < 0:\n",
    "            for i in range(index + 1):\n",
    "                selected_rows.append(player_rows.iloc[i])\n",
    "        else:\n",
    "            for i in range(index + 1 - number_rows, index + 1):\n",
    "                selected_rows.append(player_rows.iloc[i])\n",
    "#     elif converted_datetime >= players_rows[len(player_rows) - 1]:\n",
    "    else:\n",
    "        for i in range(len(player_rows) - number_rows, len(player_rows)):\n",
    "            selected_rows.append(player_rows.iloc[i])\n",
    "    return pd.DataFrame(selected_rows)"
   ]
  },
  {
   "cell_type": "code",
   "execution_count": 3,
   "metadata": {},
   "outputs": [],
   "source": [
    "test = get_stats('LaMarcus Aldridge', '2019-04-05', 3)\n",
    "#test.iloc[0]['made_three_point_field_goals']"
   ]
  },
  {
   "cell_type": "code",
   "execution_count": 4,
   "metadata": {},
   "outputs": [],
   "source": [
    "def get_points(row_data):\n",
    "    three_pt_fgs = row_data['made_three_point_field_goals']\n",
    "    two_pt_fgs = row_data['made_field_goals'] - three_pt_fgs\n",
    "    made_fts = row_data['made_free_throws']\n",
    "    total_rebounds = row_data['offensive_rebounds'] + row_data['defensive_rebounds']\n",
    "    assists = row_data['assists']\n",
    "    blocks = row_data['blocks']\n",
    "    steals = row_data['steals']\n",
    "    turnovers = row_data['turnovers']\n",
    "    FD_points = three_pt_fgs * 3 + two_pt_fgs * 2 + made_fts + total_rebounds * 1.2 + assists * 1.5 + blocks * 3 + steals * 3 - turnovers\n",
    "    FD_dollars = FD_points * 0.000416\n",
    "    return (FD_points, FD_dollars)"
   ]
  }
 ],
 "metadata": {
  "kernelspec": {
   "display_name": "Python 3",
   "language": "python",
   "name": "python3"
  },
  "language_info": {
   "codemirror_mode": {
    "name": "ipython",
    "version": 3
   },
   "file_extension": ".py",
   "mimetype": "text/x-python",
   "name": "python",
   "nbconvert_exporter": "python",
   "pygments_lexer": "ipython3",
   "version": "3.7.1"
  }
 },
 "nbformat": 4,
 "nbformat_minor": 2
}
