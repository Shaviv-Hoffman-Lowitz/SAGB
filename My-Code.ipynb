{
 "cells": [
  {
   "cell_type": "code",
   "execution_count": 35,
   "metadata": {},
   "outputs": [],
   "source": [
    "import pandas as pd\n",
    "files = pd.read_csv('SAGB-master/all_games.csv')"
   ]
  },
  {
   "cell_type": "code",
   "execution_count": 36,
   "metadata": {},
   "outputs": [],
   "source": [
    "def get_stats(player, last_row, number_rows):\n",
    "    player_rows = files.loc[files['name'] == player]\n",
    "    selected_rows = []\n",
    "    if (len(player_rows)) < number_rows or last_row > len(player_rows):\n",
    "        for i in range(len(player_rows)):\n",
    "            selected_rows.append(player_rows[i])\n",
    "    else:\n",
    "        for i in range(last_row - number_rows, last_row):\n",
    "            selected_rows.append(player_rows.iloc[i])\n",
    "    return pd.DataFrame(selected_rows)"
   ]
  },
  {
   "cell_type": "code",
   "execution_count": 37,
   "metadata": {},
   "outputs": [
    {
     "name": "stdout",
     "output_type": "stream",
     "text": [
      "      Unnamed: 0       slug               name               team location  \\\n",
      "907           11  aldrila01  LaMarcus Aldridge  SAN ANTONIO SPURS     AWAY   \n",
      "1324          85  aldrila01  LaMarcus Aldridge  SAN ANTONIO SPURS     AWAY   \n",
      "1453           0  aldrila01  LaMarcus Aldridge  SAN ANTONIO SPURS     HOME   \n",
      "\n",
      "                   opponent outcome  seconds_played  made_field_goals  \\\n",
      "907         DETROIT PISTONS     WIN            1689                 9   \n",
      "1324      MEMPHIS GRIZZLIES    LOSS            1778                 4   \n",
      "1453  OKLAHOMA CITY THUNDER     WIN            2914                20   \n",
      "\n",
      "      attempted_field_goals     ...      attempted_free_throws  \\\n",
      "907                      12     ...                          8   \n",
      "1324                     12     ...                          6   \n",
      "1453                     33     ...                         16   \n",
      "\n",
      "      offensive_rebounds  defensive_rebounds  assists  steals  blocks  \\\n",
      "907                    2                   4        2       0       1   \n",
      "1324                   2                   5        1       0       1   \n",
      "1453                   4                   5        4       0       4   \n",
      "\n",
      "      turnovers  personal_fouls  game_score        Date  \n",
      "907           4               5        18.5  2019-01-07  \n",
      "1324          1               2         8.3  2019-01-09  \n",
      "1453          5               2        45.0  2019-01-10  \n",
      "\n",
      "[3 rows x 23 columns]\n"
     ]
    }
   ],
   "source": [
    "test = get_stats('LaMarcus Aldridge', 5, 3)\n",
    "print(test)"
   ]
  },
  {
   "cell_type": "code",
   "execution_count": null,
   "metadata": {},
   "outputs": [],
   "source": []
  }
 ],
 "metadata": {
  "kernelspec": {
   "display_name": "Python 3",
   "language": "python",
   "name": "python3"
  },
  "language_info": {
   "codemirror_mode": {
    "name": "ipython",
    "version": 3
   },
   "file_extension": ".py",
   "mimetype": "text/x-python",
   "name": "python",
   "nbconvert_exporter": "python",
   "pygments_lexer": "ipython3",
   "version": "3.7.1"
  }
 },
 "nbformat": 4,
 "nbformat_minor": 2
}
