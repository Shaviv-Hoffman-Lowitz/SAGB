{
 "cells": [
  {
   "cell_type": "code",
   "execution_count": 3,
   "metadata": {},
   "outputs": [],
   "source": [
    "import pandas as pd\n",
    "import numpy as np\n",
    "import statsmodels.api as sm\n",
    "import statsmodels.tsa as tsa\n",
    "import statsmodels.formula.api as smf"
   ]
  },
  {
   "cell_type": "code",
   "execution_count": null,
   "metadata": {},
   "outputs": [],
   "source": [
    "def time_weighted_average(rows, statistic):\n",
    "    stat = rows[statistic]\n",
    "    if (rows.shape[0] == 5):\n",
    "        return .297*stat[4] + .297*.8*stat[3] + .297*(.8^2)*stat[2] + .297*(.8^3)*stat[1] + .297*(.8^4)*stat[0]\n",
    "    else if (rows.shape[0] == 10):\n",
    "        return .224*stat[9] + .224*.8*stat[8] + .224*(.8^2)*stat[7] + .224*(.8^3)*stat[6] + .224*(.8^4)*stat[5] + .224*(.8^5)*stat[4] + .224*(.8^6)*stat[3] + .224*(.8^7)*stat[2] + .297*(.8^4)*stat[0]"
   ]
  },
  {
   "cell_type": "code",
   "execution_count": null,
   "metadata": {},
   "outputs": [],
   "source": []
  },
  {
   "cell_type": "code",
   "execution_count": null,
   "metadata": {},
   "outputs": [],
   "source": []
  },
  {
   "cell_type": "code",
   "execution_count": null,
   "metadata": {},
   "outputs": [],
   "source": []
  }
 ],
 "metadata": {
  "kernelspec": {
   "display_name": "Python 3",
   "language": "python",
   "name": "python3"
  },
  "language_info": {
   "codemirror_mode": {
    "name": "ipython",
    "version": 3
   },
   "file_extension": ".py",
   "mimetype": "text/x-python",
   "name": "python",
   "nbconvert_exporter": "python",
   "pygments_lexer": "ipython3",
   "version": "3.6.4"
  }
 },
 "nbformat": 4,
 "nbformat_minor": 2
}
