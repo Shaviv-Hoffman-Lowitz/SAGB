{
 "cells": [
  {
   "cell_type": "code",
   "execution_count": 94,
   "metadata": {},
   "outputs": [],
   "source": [
    "import pandas as pd\n",
    "import numpy as np\n",
    "from datetime import datetime\n",
    "from dateutil.parser import parse"
   ]
  },
  {
   "cell_type": "code",
   "execution_count": 95,
   "metadata": {},
   "outputs": [],
   "source": [
    "def weight_function(statistic, weight):\n",
    "    s = 0\n",
    "    if type(statistic) == np.ndarray:\n",
    "        for i in range(len(statistic)):\n",
    "            s += statistic[len(statistic) - i - 1] * (weight ** i)\n",
    "    else:\n",
    "        for i in range(len(statistic)):\n",
    "            s += statistic.iloc[len(statistic) - i - 1,] * (weight ** i)\n",
    "    return s"
   ]
  },
  {
   "cell_type": "code",
   "execution_count": 96,
   "metadata": {},
   "outputs": [],
   "source": [
    "files = pd.read_csv(\"all_games_updated.csv\")\n",
    "def get_stats(player, date, number_rows):\n",
    "    converted_datetime = datetime.strptime(date, '%Y-%m-%d')\n",
    "    player_rows = files.loc[files['name'] == player]\n",
    "    selected_rows = []\n",
    "    if (len(player_rows)) < number_rows:\n",
    "        for i in range(len(player_rows)):\n",
    "            selected_rows.append(player_rows.iloc[i])\n",
    "        return pd.DataFrame(selected_rows)\n",
    "    index = 0\n",
    "    for i in range(len(player_rows)):\n",
    "        curr_date = player_rows.iloc[i]['Date']\n",
    "        if datetime.strptime(curr_date, '%Y-%m-%d') >= converted_datetime:\n",
    "            index = i - 1\n",
    "            break\n",
    "    if index != 0:\n",
    "        if index + 1 - number_rows < 0:\n",
    "            for i in range(index + 1):\n",
    "                selected_rows.append(player_rows.iloc[i])\n",
    "        else:\n",
    "            for i in range(index + 1 - number_rows, index + 1):\n",
    "                selected_rows.append(player_rows.iloc[i])\n",
    "#     elif converted_datetime >= players_rows[len(player_rows) - 1]:\n",
    "    else:\n",
    "        for i in range(len(player_rows) - number_rows, len(player_rows)):\n",
    "            selected_rows.append(player_rows.iloc[i])\n",
    "    return pd.DataFrame(selected_rows)"
   ]
  },
  {
   "cell_type": "code",
   "execution_count": 97,
   "metadata": {},
   "outputs": [],
   "source": [
    "def time_weighted_average(rows, statistic, weight):\n",
    "    if rows.empty:\n",
    "        return 0\n",
    "    stat = rows[statistic]\n",
    "    this_num = 1 / weight_function(np.ones(len(stat)), weight)\n",
    "    return this_num * weight_function(stat, weight)"
   ]
  },
  {
   "cell_type": "code",
   "execution_count": 98,
   "metadata": {},
   "outputs": [],
   "source": [
    "player_box_scores = pd.read_csv('all_games_updated.csv')\n",
    "\n",
    "input_statistics = [\"name\", \"team\", \"date\", \"location\", \"opponent\", \"made_field_goals\", \"made_two_point_field_goals\", \"attempted_two_point_field_goals\", \"attempted_field_goals\", \"made_three_point_field_goals\", \"attempted_three_point_field_goals\", \"attempted_free_throws\", \"made_free_throws\", \"offensive_rebounds\", \"defensive_rebounds\", \"assists\", \"blocks\", \"turnovers\", \"steals\"]"
   ]
  },
  {
   "cell_type": "code",
   "execution_count": 105,
   "metadata": {},
   "outputs": [],
   "source": [
    "def statline_predictor(player_box_scores, input_statistics, sample_size = 5, weight = .8):\n",
    "    predicted_statlines = pd.DataFrame(index = player_box_scores.index, columns = input_statistics).fillna(0).T\n",
    "    for box_index in player_box_scores.index:\n",
    "        box_score = player_box_scores.loc[box_index]\n",
    "        player_name = box_score[\"name\"]\n",
    "        game_date = box_score[\"Date\"]\n",
    "        last_n_rows = get_stats(player_name, game_date, sample_size)\n",
    "        weighted_stats = [player_name, box_score[\"team\"], game_date, box_score[\"location\"], box_score[\"opponent\"]]\n",
    "        for stat in input_statistics[5:]:\n",
    "            weighted_stats.append(round(time_weighted_average(last_n_rows, stat, weight), 2))\n",
    "        predicted_statlines[box_index] = weighted_stats\n",
    "    return predicted_statlines.T"
   ]
  },
  {
   "cell_type": "code",
   "execution_count": 106,
   "metadata": {},
   "outputs": [],
   "source": [
    "predictions_samplesize5 = statline_predictor(files, input_statistics, sample_size = 5)\n",
    "predictions_samplesize5.to_csv(\"predicted_statlines_trailing_5_games.csv\")"
   ]
  },
  {
   "cell_type": "code",
   "execution_count": 107,
   "metadata": {},
   "outputs": [],
   "source": [
    "predictions_samplesize10 = statline_predictor(files, input_statistics, sample_size = 10)\n",
    "predictions_samplesize10.to_csv(\"predicted_statlines_trailing_10_games.csv\")"
   ]
  },
  {
   "cell_type": "code",
   "execution_count": null,
   "metadata": {},
   "outputs": [],
   "source": []
  },
  {
   "cell_type": "code",
   "execution_count": null,
   "metadata": {},
   "outputs": [],
   "source": []
  },
  {
   "cell_type": "code",
   "execution_count": null,
   "metadata": {},
   "outputs": [],
   "source": []
  }
 ],
 "metadata": {
  "kernelspec": {
   "display_name": "Python 3",
   "language": "python",
   "name": "python3"
  },
  "language_info": {
   "codemirror_mode": {
    "name": "ipython",
    "version": 3
   },
   "file_extension": ".py",
   "mimetype": "text/x-python",
   "name": "python",
   "nbconvert_exporter": "python",
   "pygments_lexer": "ipython3",
   "version": "3.6.4"
  }
 },
 "nbformat": 4,
 "nbformat_minor": 2
}
