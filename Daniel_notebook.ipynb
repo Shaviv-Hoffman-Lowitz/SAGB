{
 "cells": [
  {
   "cell_type": "code",
   "execution_count": 3,
   "metadata": {},
   "outputs": [],
   "source": [
    "import pandas as pd\n",
    "import numpy as np\n",
    "import statsmodels.api as sm\n",
    "import statsmodels.tsa as tsa\n",
    "import statsmodels.formula.api as smf"
   ]
  },
  {
   "cell_type": "code",
   "execution_count": null,
   "metadata": {},
   "outputs": [],
   "source": [
    "def time_weighted_average(rows, statistic):\n",
    "    stat = rows[statistic]\n",
    "    if (rows.shape[0] == 5):\n",
    "        return .297*stat[4] + .297*.8*stat[3] + .297*(.8^2)*stat[2] + .297*(.8^3)*stat[1] + .297*(.8^4)*stat[0]\n",
    "    else if (rows.shape[0] == 10):\n",
    "        return .224*stat[9] + .224*.8*stat[8] + .224*(.8^2)*stat[7] + .224*(.8^3)*stat[6] + .224*(.8^4)*stat[5] + .224*(.8^5)*stat[4] + .224*(.8^6)*stat[3] + .224*(.8^7)*stat[2] + .297*(.8^4)*stat[0]"
   ]
  },
  {
   "cell_type": "code",
   "execution_count": 1,
   "metadata": {},
   "outputs": [
    {
     "ename": "SyntaxError",
     "evalue": "invalid syntax (<ipython-input-1-b75340425eaf>, line 3)",
     "output_type": "error",
     "traceback": [
      "\u001b[1;36m  File \u001b[1;32m\"<ipython-input-1-b75340425eaf>\"\u001b[1;36m, line \u001b[1;32m3\u001b[0m\n\u001b[1;33m    for (box_score in player_box_scores):\u001b[0m\n\u001b[1;37m                                        ^\u001b[0m\n\u001b[1;31mSyntaxError\u001b[0m\u001b[1;31m:\u001b[0m invalid syntax\n"
     ]
    }
   ],
   "source": [
    "player_box_scores = pd.read_csv('SAGB-master/all_games_new.csv')\n",
    "\n",
    "input_statistics = [\"made_field_goals\", \"attempted_field_goals\", \"made_three_point_field_goals\", \"attempted_three_point_field_goals\", \"attempted_free_throws\", \"made_free_throws\", \"offensive_rebounds\", \"defensive_rebounds\", \"assists\", \"blocks\", \"turnovers\", \"steals\"]\n",
    "for (box_score in player_box_scores):\n",
    "    player_name = box_score[\"name\"]\n",
    "    game_date = box_score[\"Date\"]\n",
    "    last_5_rows = get_stats(player_name, game_date, 5)\n",
    "    weighted_stats = []\n",
    "    for (stat in input_statistics):\n",
    "        weighted_stats.append(time_weighted_average(last_5_rows, stat))\n",
    "    line_with_averages = "
   ]
  },
  {
   "cell_type": "code",
   "execution_count": null,
   "metadata": {},
   "outputs": [],
   "source": []
  },
  {
   "cell_type": "code",
   "execution_count": null,
   "metadata": {},
   "outputs": [],
   "source": []
  }
 ],
 "metadata": {
  "kernelspec": {
   "display_name": "Python 3",
   "language": "python",
   "name": "python3"
  },
  "language_info": {
   "codemirror_mode": {
    "name": "ipython",
    "version": 3
   },
   "file_extension": ".py",
   "mimetype": "text/x-python",
   "name": "python",
   "nbconvert_exporter": "python",
   "pygments_lexer": "ipython3",
   "version": "3.6.4"
  }
 },
 "nbformat": 4,
 "nbformat_minor": 2
}
