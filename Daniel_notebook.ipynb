{
 "cells": [
  {
   "cell_type": "code",
   "execution_count": 22,
   "metadata": {},
   "outputs": [],
   "source": [
    "import pandas as pd\n",
    "import numpy as np\n",
    "from datetime import datetime\n",
    "from dateutil.parser import parse\n",
    "files = pd.read_csv(\"all_games_updated.csv\")"
   ]
  },
  {
   "cell_type": "code",
   "execution_count": 61,
   "metadata": {},
   "outputs": [],
   "source": [
    "def time_weighted_average(rows, statistic):\n",
    "    stat = rows[statistic]\n",
    "    if (rows.shape[0] == 5):\n",
    "        return .297*stat.iloc[4,] + .297*.8*stat.iloc[3,] + .297*(.8**2)*stat.iloc[2,] + .297*(.8**3)*stat.iloc[1,] + .297*(.8**4)*stat.iloc[0,]\n",
    "    elif (rows.shape[0] == 10):\n",
    "        return .224*stat.iloc[9,] + .224*.8*stat.iloc[8,] + .224*(.8^2)*stat[7] + .224*(.8^3)*stat[6] + .224*(.8^4)*stat[5] + .224*(.8^5)*stat[4] + .224*(.8^6)*stat[3] + .224*(.8^7)*stat[2] + .297*(.8^4)*stat[0]"
   ]
  },
  {
   "cell_type": "code",
   "execution_count": 37,
   "metadata": {},
   "outputs": [],
   "source": [
    "def get_stats(player, date, number_rows):\n",
    "    converted_datetime = datetime.strptime(date, '%Y-%m-%d')\n",
    "    player_rows = files.loc[files['name'] == player]\n",
    "    selected_rows = []\n",
    "    if (len(player_rows)) < number_rows:\n",
    "        for i in range(len(player_rows)):\n",
    "            selected_rows.append(player_rows.iloc[i])\n",
    "        return pd.DataFrame(selected_rows)\n",
    "    index = 0\n",
    "    for i in range(len(player_rows)):\n",
    "        curr_date = player_rows.iloc[i]['Date']\n",
    "        if datetime.strptime(curr_date, '%Y-%m-%d') >= converted_datetime:\n",
    "            index = i - 1\n",
    "            break\n",
    "    if index != 0:\n",
    "        if index + 1 - number_rows < 0:\n",
    "            for i in range(index + 1):\n",
    "                selected_rows.append(player_rows.iloc[i])\n",
    "        else:\n",
    "            for i in range(index + 1 - number_rows, index + 1):\n",
    "                selected_rows.append(player_rows.iloc[i])\n",
    "#     elif converted_datetime >= players_rows[len(player_rows) - 1]:\n",
    "    else:\n",
    "        for i in range(len(player_rows) - number_rows, len(player_rows)):\n",
    "            selected_rows.append(player_rows.iloc[i])\n",
    "    return pd.DataFrame(selected_rows)"
   ]
  },
  {
   "cell_type": "code",
   "execution_count": 16,
   "metadata": {},
   "outputs": [
    {
     "ename": "SyntaxError",
     "evalue": "invalid syntax (<ipython-input-16-dd5ce807971f>, line 4)",
     "output_type": "error",
     "traceback": [
      "\u001b[1;36m  File \u001b[1;32m\"<ipython-input-16-dd5ce807971f>\"\u001b[1;36m, line \u001b[1;32m4\u001b[0m\n\u001b[1;33m    for (box_score in player_box_scores):\u001b[0m\n\u001b[1;37m                                        ^\u001b[0m\n\u001b[1;31mSyntaxError\u001b[0m\u001b[1;31m:\u001b[0m invalid syntax\n"
     ]
    }
   ],
   "source": [
    "player_box_scores = pd.read_csv('all_games_updated.csv')\n",
    "\n",
    "input_statistics = [\"made_field_goals\", \"made_two_point_field_goals\", \"attempted_two_point_field_goals\", \"attempted_field_goals\", \"made_three_point_field_goals\", \"attempted_three_point_field_goals\", \"attempted_free_throws\", \"made_free_throws\", \"offensive_rebounds\", \"defensive_rebounds\", \"assists\", \"blocks\", \"turnovers\", \"steals\"]\n",
    "for box_index in player_box_scores.index:\n",
    "    box_score = player_box_scores.loc[box_index]\n",
    "    player_name = box_score[\"name\"]\n",
    "    game_date = box_score[\"Date\"]\n",
    "    last_5_rows = get_stats(player_name, game_date, 5)\n",
    "    weighted_stats = []\n",
    "    for stat in input_statistics:\n",
    "        weighted_stats.append(time_weighted_average(last_5_rows, stat))\n",
    "    line_with_averages = "
   ]
  },
  {
   "cell_type": "code",
   "execution_count": 62,
   "metadata": {},
   "outputs": [
    {
     "name": "stdout",
     "output_type": "stream",
     "text": [
      "2.9524176000000004\n",
      "1.2098592000000001\n",
      "0.0\n",
      "1.8922463999999999\n",
      "2.4501312\n",
      "0.4186512\n",
      "0.6329664\n",
      "0.449064\n",
      "3.7084608\n",
      "1.4450832000000002\n",
      "1.21176\n",
      "3.3819984000000005\n",
      "4.9648896\n",
      "1.10484\n",
      "1.4170463999999998\n",
      "0.7318080000000001\n",
      "2.4216192000000003\n",
      "4.363286400000001\n",
      "1.7834256000000002\n"
     ]
    }
   ],
   "source": [
    "for box_index in files.index[10021:10040]:\n",
    "    boxscore = files.loc[box_index]\n",
    "    print(time_weighted_average(get_stats(boxscore[\"name\"], boxscore[\"Date\"], 5), \"assists\"))"
   ]
  },
  {
   "cell_type": "code",
   "execution_count": 39,
   "metadata": {},
   "outputs": [
    {
     "data": {
      "text/plain": [
       "RangeIndex(start=1, stop=10, step=1)"
      ]
     },
     "execution_count": 39,
     "metadata": {},
     "output_type": "execute_result"
    }
   ],
   "source": []
  },
  {
   "cell_type": "code",
   "execution_count": 54,
   "metadata": {},
   "outputs": [
    {
     "data": {
      "text/plain": [
       "12757"
      ]
     },
     "execution_count": 54,
     "metadata": {},
     "output_type": "execute_result"
    }
   ],
   "source": [
    "files.shape[0]"
   ]
  },
  {
   "cell_type": "code",
   "execution_count": null,
   "metadata": {},
   "outputs": [],
   "source": []
  }
 ],
 "metadata": {
  "kernelspec": {
   "display_name": "Python 3",
   "language": "python",
   "name": "python3"
  },
  "language_info": {
   "codemirror_mode": {
    "name": "ipython",
    "version": 3
   },
   "file_extension": ".py",
   "mimetype": "text/x-python",
   "name": "python",
   "nbconvert_exporter": "python",
   "pygments_lexer": "ipython3",
   "version": "3.6.4"
  }
 },
 "nbformat": 4,
 "nbformat_minor": 2
}
